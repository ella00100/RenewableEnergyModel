{
  "nbformat": 4,
  "nbformat_minor": 0,
  "metadata": {
    "colab": {
      "provenance": [],
      "authorship_tag": "ABX9TyPPcxW84GgUhmu8q+A9uf40",
      "include_colab_link": true
    },
    "kernelspec": {
      "name": "python3",
      "display_name": "Python 3"
    },
    "language_info": {
      "name": "python"
    }
  },
  "cells": [
    {
      "cell_type": "markdown",
      "metadata": {
        "id": "view-in-github",
        "colab_type": "text"
      },
      "source": [
        "<a href=\"https://colab.research.google.com/github/ella00100/RenewableEnergyModel/blob/main/renewableEnergy_Model_data.ipynb\" target=\"_parent\"><img src=\"https://colab.research.google.com/assets/colab-badge.svg\" alt=\"Open In Colab\"/></a>"
      ]
    },
    {
      "cell_type": "markdown",
      "source": [
        "#재생에너지 발전량 예측제도\n",
        "\n"
      ],
      "metadata": {
        "id": "mtVGwXFYPpDP"
      }
    },
    {
      "cell_type": "markdown",
      "source": [
        "##1. 데이터 불러오기"
      ],
      "metadata": {
        "id": "kQTB8pZyhqPA"
      }
    },
    {
      "cell_type": "code",
      "execution_count": 145,
      "metadata": {
        "colab": {
          "base_uri": "https://localhost:8080/",
          "height": 76
        },
        "id": "et8E7-v9Plz_",
        "outputId": "f56a6cf8-b3f8-43a0-af5e-0074982a130f"
      },
      "outputs": [
        {
          "output_type": "display_data",
          "data": {
            "text/plain": [
              "<IPython.core.display.HTML object>"
            ],
            "text/html": [
              "\n",
              "     <input type=\"file\" id=\"files-ecaf4fb7-6f3d-48da-83d2-d5d510f04409\" name=\"files[]\" multiple disabled\n",
              "        style=\"border:none\" />\n",
              "     <output id=\"result-ecaf4fb7-6f3d-48da-83d2-d5d510f04409\">\n",
              "      Upload widget is only available when the cell has been executed in the\n",
              "      current browser session. Please rerun this cell to enable.\n",
              "      </output>\n",
              "      <script>// Copyright 2017 Google LLC\n",
              "//\n",
              "// Licensed under the Apache License, Version 2.0 (the \"License\");\n",
              "// you may not use this file except in compliance with the License.\n",
              "// You may obtain a copy of the License at\n",
              "//\n",
              "//      http://www.apache.org/licenses/LICENSE-2.0\n",
              "//\n",
              "// Unless required by applicable law or agreed to in writing, software\n",
              "// distributed under the License is distributed on an \"AS IS\" BASIS,\n",
              "// WITHOUT WARRANTIES OR CONDITIONS OF ANY KIND, either express or implied.\n",
              "// See the License for the specific language governing permissions and\n",
              "// limitations under the License.\n",
              "\n",
              "/**\n",
              " * @fileoverview Helpers for google.colab Python module.\n",
              " */\n",
              "(function(scope) {\n",
              "function span(text, styleAttributes = {}) {\n",
              "  const element = document.createElement('span');\n",
              "  element.textContent = text;\n",
              "  for (const key of Object.keys(styleAttributes)) {\n",
              "    element.style[key] = styleAttributes[key];\n",
              "  }\n",
              "  return element;\n",
              "}\n",
              "\n",
              "// Max number of bytes which will be uploaded at a time.\n",
              "const MAX_PAYLOAD_SIZE = 100 * 1024;\n",
              "\n",
              "function _uploadFiles(inputId, outputId) {\n",
              "  const steps = uploadFilesStep(inputId, outputId);\n",
              "  const outputElement = document.getElementById(outputId);\n",
              "  // Cache steps on the outputElement to make it available for the next call\n",
              "  // to uploadFilesContinue from Python.\n",
              "  outputElement.steps = steps;\n",
              "\n",
              "  return _uploadFilesContinue(outputId);\n",
              "}\n",
              "\n",
              "// This is roughly an async generator (not supported in the browser yet),\n",
              "// where there are multiple asynchronous steps and the Python side is going\n",
              "// to poll for completion of each step.\n",
              "// This uses a Promise to block the python side on completion of each step,\n",
              "// then passes the result of the previous step as the input to the next step.\n",
              "function _uploadFilesContinue(outputId) {\n",
              "  const outputElement = document.getElementById(outputId);\n",
              "  const steps = outputElement.steps;\n",
              "\n",
              "  const next = steps.next(outputElement.lastPromiseValue);\n",
              "  return Promise.resolve(next.value.promise).then((value) => {\n",
              "    // Cache the last promise value to make it available to the next\n",
              "    // step of the generator.\n",
              "    outputElement.lastPromiseValue = value;\n",
              "    return next.value.response;\n",
              "  });\n",
              "}\n",
              "\n",
              "/**\n",
              " * Generator function which is called between each async step of the upload\n",
              " * process.\n",
              " * @param {string} inputId Element ID of the input file picker element.\n",
              " * @param {string} outputId Element ID of the output display.\n",
              " * @return {!Iterable<!Object>} Iterable of next steps.\n",
              " */\n",
              "function* uploadFilesStep(inputId, outputId) {\n",
              "  const inputElement = document.getElementById(inputId);\n",
              "  inputElement.disabled = false;\n",
              "\n",
              "  const outputElement = document.getElementById(outputId);\n",
              "  outputElement.innerHTML = '';\n",
              "\n",
              "  const pickedPromise = new Promise((resolve) => {\n",
              "    inputElement.addEventListener('change', (e) => {\n",
              "      resolve(e.target.files);\n",
              "    });\n",
              "  });\n",
              "\n",
              "  const cancel = document.createElement('button');\n",
              "  inputElement.parentElement.appendChild(cancel);\n",
              "  cancel.textContent = 'Cancel upload';\n",
              "  const cancelPromise = new Promise((resolve) => {\n",
              "    cancel.onclick = () => {\n",
              "      resolve(null);\n",
              "    };\n",
              "  });\n",
              "\n",
              "  // Wait for the user to pick the files.\n",
              "  const files = yield {\n",
              "    promise: Promise.race([pickedPromise, cancelPromise]),\n",
              "    response: {\n",
              "      action: 'starting',\n",
              "    }\n",
              "  };\n",
              "\n",
              "  cancel.remove();\n",
              "\n",
              "  // Disable the input element since further picks are not allowed.\n",
              "  inputElement.disabled = true;\n",
              "\n",
              "  if (!files) {\n",
              "    return {\n",
              "      response: {\n",
              "        action: 'complete',\n",
              "      }\n",
              "    };\n",
              "  }\n",
              "\n",
              "  for (const file of files) {\n",
              "    const li = document.createElement('li');\n",
              "    li.append(span(file.name, {fontWeight: 'bold'}));\n",
              "    li.append(span(\n",
              "        `(${file.type || 'n/a'}) - ${file.size} bytes, ` +\n",
              "        `last modified: ${\n",
              "            file.lastModifiedDate ? file.lastModifiedDate.toLocaleDateString() :\n",
              "                                    'n/a'} - `));\n",
              "    const percent = span('0% done');\n",
              "    li.appendChild(percent);\n",
              "\n",
              "    outputElement.appendChild(li);\n",
              "\n",
              "    const fileDataPromise = new Promise((resolve) => {\n",
              "      const reader = new FileReader();\n",
              "      reader.onload = (e) => {\n",
              "        resolve(e.target.result);\n",
              "      };\n",
              "      reader.readAsArrayBuffer(file);\n",
              "    });\n",
              "    // Wait for the data to be ready.\n",
              "    let fileData = yield {\n",
              "      promise: fileDataPromise,\n",
              "      response: {\n",
              "        action: 'continue',\n",
              "      }\n",
              "    };\n",
              "\n",
              "    // Use a chunked sending to avoid message size limits. See b/62115660.\n",
              "    let position = 0;\n",
              "    do {\n",
              "      const length = Math.min(fileData.byteLength - position, MAX_PAYLOAD_SIZE);\n",
              "      const chunk = new Uint8Array(fileData, position, length);\n",
              "      position += length;\n",
              "\n",
              "      const base64 = btoa(String.fromCharCode.apply(null, chunk));\n",
              "      yield {\n",
              "        response: {\n",
              "          action: 'append',\n",
              "          file: file.name,\n",
              "          data: base64,\n",
              "        },\n",
              "      };\n",
              "\n",
              "      let percentDone = fileData.byteLength === 0 ?\n",
              "          100 :\n",
              "          Math.round((position / fileData.byteLength) * 100);\n",
              "      percent.textContent = `${percentDone}% done`;\n",
              "\n",
              "    } while (position < fileData.byteLength);\n",
              "  }\n",
              "\n",
              "  // All done.\n",
              "  yield {\n",
              "    response: {\n",
              "      action: 'complete',\n",
              "    }\n",
              "  };\n",
              "}\n",
              "\n",
              "scope.google = scope.google || {};\n",
              "scope.google.colab = scope.google.colab || {};\n",
              "scope.google.colab._files = {\n",
              "  _uploadFiles,\n",
              "  _uploadFilesContinue,\n",
              "};\n",
              "})(self);\n",
              "</script> "
            ]
          },
          "metadata": {}
        },
        {
          "output_type": "stream",
          "name": "stdout",
          "text": [
            "Saving test_data.csv to test_data (4).csv\n"
          ]
        }
      ],
      "source": [
        "from google.colab import files\n",
        "uploaded = files.upload()"
      ]
    },
    {
      "cell_type": "code",
      "source": [
        "import io\n",
        "import pandas as pd\n",
        "data = pd.read_csv('test_data.csv')"
      ],
      "metadata": {
        "id": "GabHuBqcRQcU"
      },
      "execution_count": 146,
      "outputs": []
    },
    {
      "cell_type": "markdown",
      "source": [
        "##2. 데이터 탐색"
      ],
      "metadata": {
        "id": "0cNLWVT9hvjj"
      }
    },
    {
      "cell_type": "code",
      "source": [
        "data.head()"
      ],
      "metadata": {
        "colab": {
          "base_uri": "https://localhost:8080/",
          "height": 438
        },
        "id": "uL0PR0yTR0Pg",
        "outputId": "f6e04f41-a1ed-4596-e517-c8d267fadd85"
      },
      "execution_count": 147,
      "outputs": [
        {
          "output_type": "execute_result",
          "data": {
            "text/plain": [
              "           일자 구분1  발전소코드  발전소용량(KW)   0:00  1:00  2:00  3:00  4:00  5:00  ...  \\\n",
              "0  2023-03-01  실측  G1053     249.48   0.00  0.00     0     0     0  0.00  ...   \n",
              "1  2023-03-01  예측  G1053     249.48   0.95  0.97  0.94  0.97  0.96  0.95  ...   \n",
              "2  2023-03-01  실측  G1018     288.00   0.00  0.00     0     0     0  0.00  ...   \n",
              "3  2023-03-01  예측  G1018     288.00   0.00  0.00     0     0     0  0.00  ...   \n",
              "4  2023-03-01  실측  G1034     298.08  12.40  0.00     0     0     0  0.00  ...   \n",
              "\n",
              "    15:00  16:00  17:00   18:00  19:00  20:00  21:00  22:00  23:00      합계  \n",
              "0    0.10  65.80  33.60  133.70  161.1  150.5      0      0      0  640.90  \n",
              "1   20.08  93.61  35.62  161.20  161.2  161.2  46.95   0.89   0.98  739.26  \n",
              "2  101.26  53.50  29.09    2.21    0.0      0      0      0      0  787.25  \n",
              "3   93.33  30.84  27.05    1.43    0.0      0      0      0      0  618.75  \n",
              "4   18.60  63.80  28.80    0.60    0.0  164.2  135.6      0      0  552.40  \n",
              "\n",
              "[5 rows x 29 columns]"
            ],
            "text/html": [
              "\n",
              "  <div id=\"df-94a060bb-04b9-41b7-8bdf-70771fe49b5f\">\n",
              "    <div class=\"colab-df-container\">\n",
              "      <div>\n",
              "<style scoped>\n",
              "    .dataframe tbody tr th:only-of-type {\n",
              "        vertical-align: middle;\n",
              "    }\n",
              "\n",
              "    .dataframe tbody tr th {\n",
              "        vertical-align: top;\n",
              "    }\n",
              "\n",
              "    .dataframe thead th {\n",
              "        text-align: right;\n",
              "    }\n",
              "</style>\n",
              "<table border=\"1\" class=\"dataframe\">\n",
              "  <thead>\n",
              "    <tr style=\"text-align: right;\">\n",
              "      <th></th>\n",
              "      <th>일자</th>\n",
              "      <th>구분1</th>\n",
              "      <th>발전소코드</th>\n",
              "      <th>발전소용량(KW)</th>\n",
              "      <th>0:00</th>\n",
              "      <th>1:00</th>\n",
              "      <th>2:00</th>\n",
              "      <th>3:00</th>\n",
              "      <th>4:00</th>\n",
              "      <th>5:00</th>\n",
              "      <th>...</th>\n",
              "      <th>15:00</th>\n",
              "      <th>16:00</th>\n",
              "      <th>17:00</th>\n",
              "      <th>18:00</th>\n",
              "      <th>19:00</th>\n",
              "      <th>20:00</th>\n",
              "      <th>21:00</th>\n",
              "      <th>22:00</th>\n",
              "      <th>23:00</th>\n",
              "      <th>합계</th>\n",
              "    </tr>\n",
              "  </thead>\n",
              "  <tbody>\n",
              "    <tr>\n",
              "      <th>0</th>\n",
              "      <td>2023-03-01</td>\n",
              "      <td>실측</td>\n",
              "      <td>G1053</td>\n",
              "      <td>249.48</td>\n",
              "      <td>0.00</td>\n",
              "      <td>0.00</td>\n",
              "      <td>0</td>\n",
              "      <td>0</td>\n",
              "      <td>0</td>\n",
              "      <td>0.00</td>\n",
              "      <td>...</td>\n",
              "      <td>0.10</td>\n",
              "      <td>65.80</td>\n",
              "      <td>33.60</td>\n",
              "      <td>133.70</td>\n",
              "      <td>161.1</td>\n",
              "      <td>150.5</td>\n",
              "      <td>0</td>\n",
              "      <td>0</td>\n",
              "      <td>0</td>\n",
              "      <td>640.90</td>\n",
              "    </tr>\n",
              "    <tr>\n",
              "      <th>1</th>\n",
              "      <td>2023-03-01</td>\n",
              "      <td>예측</td>\n",
              "      <td>G1053</td>\n",
              "      <td>249.48</td>\n",
              "      <td>0.95</td>\n",
              "      <td>0.97</td>\n",
              "      <td>0.94</td>\n",
              "      <td>0.97</td>\n",
              "      <td>0.96</td>\n",
              "      <td>0.95</td>\n",
              "      <td>...</td>\n",
              "      <td>20.08</td>\n",
              "      <td>93.61</td>\n",
              "      <td>35.62</td>\n",
              "      <td>161.20</td>\n",
              "      <td>161.2</td>\n",
              "      <td>161.2</td>\n",
              "      <td>46.95</td>\n",
              "      <td>0.89</td>\n",
              "      <td>0.98</td>\n",
              "      <td>739.26</td>\n",
              "    </tr>\n",
              "    <tr>\n",
              "      <th>2</th>\n",
              "      <td>2023-03-01</td>\n",
              "      <td>실측</td>\n",
              "      <td>G1018</td>\n",
              "      <td>288.00</td>\n",
              "      <td>0.00</td>\n",
              "      <td>0.00</td>\n",
              "      <td>0</td>\n",
              "      <td>0</td>\n",
              "      <td>0</td>\n",
              "      <td>0.00</td>\n",
              "      <td>...</td>\n",
              "      <td>101.26</td>\n",
              "      <td>53.50</td>\n",
              "      <td>29.09</td>\n",
              "      <td>2.21</td>\n",
              "      <td>0.0</td>\n",
              "      <td>0</td>\n",
              "      <td>0</td>\n",
              "      <td>0</td>\n",
              "      <td>0</td>\n",
              "      <td>787.25</td>\n",
              "    </tr>\n",
              "    <tr>\n",
              "      <th>3</th>\n",
              "      <td>2023-03-01</td>\n",
              "      <td>예측</td>\n",
              "      <td>G1018</td>\n",
              "      <td>288.00</td>\n",
              "      <td>0.00</td>\n",
              "      <td>0.00</td>\n",
              "      <td>0</td>\n",
              "      <td>0</td>\n",
              "      <td>0</td>\n",
              "      <td>0.00</td>\n",
              "      <td>...</td>\n",
              "      <td>93.33</td>\n",
              "      <td>30.84</td>\n",
              "      <td>27.05</td>\n",
              "      <td>1.43</td>\n",
              "      <td>0.0</td>\n",
              "      <td>0</td>\n",
              "      <td>0</td>\n",
              "      <td>0</td>\n",
              "      <td>0</td>\n",
              "      <td>618.75</td>\n",
              "    </tr>\n",
              "    <tr>\n",
              "      <th>4</th>\n",
              "      <td>2023-03-01</td>\n",
              "      <td>실측</td>\n",
              "      <td>G1034</td>\n",
              "      <td>298.08</td>\n",
              "      <td>12.40</td>\n",
              "      <td>0.00</td>\n",
              "      <td>0</td>\n",
              "      <td>0</td>\n",
              "      <td>0</td>\n",
              "      <td>0.00</td>\n",
              "      <td>...</td>\n",
              "      <td>18.60</td>\n",
              "      <td>63.80</td>\n",
              "      <td>28.80</td>\n",
              "      <td>0.60</td>\n",
              "      <td>0.0</td>\n",
              "      <td>164.2</td>\n",
              "      <td>135.6</td>\n",
              "      <td>0</td>\n",
              "      <td>0</td>\n",
              "      <td>552.40</td>\n",
              "    </tr>\n",
              "  </tbody>\n",
              "</table>\n",
              "<p>5 rows × 29 columns</p>\n",
              "</div>\n",
              "      <button class=\"colab-df-convert\" onclick=\"convertToInteractive('df-94a060bb-04b9-41b7-8bdf-70771fe49b5f')\"\n",
              "              title=\"Convert this dataframe to an interactive table.\"\n",
              "              style=\"display:none;\">\n",
              "        \n",
              "  <svg xmlns=\"http://www.w3.org/2000/svg\" height=\"24px\"viewBox=\"0 0 24 24\"\n",
              "       width=\"24px\">\n",
              "    <path d=\"M0 0h24v24H0V0z\" fill=\"none\"/>\n",
              "    <path d=\"M18.56 5.44l.94 2.06.94-2.06 2.06-.94-2.06-.94-.94-2.06-.94 2.06-2.06.94zm-11 1L8.5 8.5l.94-2.06 2.06-.94-2.06-.94L8.5 2.5l-.94 2.06-2.06.94zm10 10l.94 2.06.94-2.06 2.06-.94-2.06-.94-.94-2.06-.94 2.06-2.06.94z\"/><path d=\"M17.41 7.96l-1.37-1.37c-.4-.4-.92-.59-1.43-.59-.52 0-1.04.2-1.43.59L10.3 9.45l-7.72 7.72c-.78.78-.78 2.05 0 2.83L4 21.41c.39.39.9.59 1.41.59.51 0 1.02-.2 1.41-.59l7.78-7.78 2.81-2.81c.8-.78.8-2.07 0-2.86zM5.41 20L4 18.59l7.72-7.72 1.47 1.35L5.41 20z\"/>\n",
              "  </svg>\n",
              "      </button>\n",
              "      \n",
              "  <style>\n",
              "    .colab-df-container {\n",
              "      display:flex;\n",
              "      flex-wrap:wrap;\n",
              "      gap: 12px;\n",
              "    }\n",
              "\n",
              "    .colab-df-convert {\n",
              "      background-color: #E8F0FE;\n",
              "      border: none;\n",
              "      border-radius: 50%;\n",
              "      cursor: pointer;\n",
              "      display: none;\n",
              "      fill: #1967D2;\n",
              "      height: 32px;\n",
              "      padding: 0 0 0 0;\n",
              "      width: 32px;\n",
              "    }\n",
              "\n",
              "    .colab-df-convert:hover {\n",
              "      background-color: #E2EBFA;\n",
              "      box-shadow: 0px 1px 2px rgba(60, 64, 67, 0.3), 0px 1px 3px 1px rgba(60, 64, 67, 0.15);\n",
              "      fill: #174EA6;\n",
              "    }\n",
              "\n",
              "    [theme=dark] .colab-df-convert {\n",
              "      background-color: #3B4455;\n",
              "      fill: #D2E3FC;\n",
              "    }\n",
              "\n",
              "    [theme=dark] .colab-df-convert:hover {\n",
              "      background-color: #434B5C;\n",
              "      box-shadow: 0px 1px 3px 1px rgba(0, 0, 0, 0.15);\n",
              "      filter: drop-shadow(0px 1px 2px rgba(0, 0, 0, 0.3));\n",
              "      fill: #FFFFFF;\n",
              "    }\n",
              "  </style>\n",
              "\n",
              "      <script>\n",
              "        const buttonEl =\n",
              "          document.querySelector('#df-94a060bb-04b9-41b7-8bdf-70771fe49b5f button.colab-df-convert');\n",
              "        buttonEl.style.display =\n",
              "          google.colab.kernel.accessAllowed ? 'block' : 'none';\n",
              "\n",
              "        async function convertToInteractive(key) {\n",
              "          const element = document.querySelector('#df-94a060bb-04b9-41b7-8bdf-70771fe49b5f');\n",
              "          const dataTable =\n",
              "            await google.colab.kernel.invokeFunction('convertToInteractive',\n",
              "                                                     [key], {});\n",
              "          if (!dataTable) return;\n",
              "\n",
              "          const docLinkHtml = 'Like what you see? Visit the ' +\n",
              "            '<a target=\"_blank\" href=https://colab.research.google.com/notebooks/data_table.ipynb>data table notebook</a>'\n",
              "            + ' to learn more about interactive tables.';\n",
              "          element.innerHTML = '';\n",
              "          dataTable['output_type'] = 'display_data';\n",
              "          await google.colab.output.renderOutput(dataTable, element);\n",
              "          const docLink = document.createElement('div');\n",
              "          docLink.innerHTML = docLinkHtml;\n",
              "          element.appendChild(docLink);\n",
              "        }\n",
              "      </script>\n",
              "    </div>\n",
              "  </div>\n",
              "  "
            ]
          },
          "metadata": {},
          "execution_count": 147
        }
      ]
    },
    {
      "cell_type": "code",
      "source": [
        "data.info()"
      ],
      "metadata": {
        "colab": {
          "base_uri": "https://localhost:8080/"
        },
        "id": "tPJ5XvZkjF-3",
        "outputId": "b4201e7c-67e9-4f6f-bcbc-25252379a613"
      },
      "execution_count": 148,
      "outputs": [
        {
          "output_type": "stream",
          "name": "stdout",
          "text": [
            "<class 'pandas.core.frame.DataFrame'>\n",
            "RangeIndex: 10478 entries, 0 to 10477\n",
            "Data columns (total 29 columns):\n",
            " #   Column     Non-Null Count  Dtype  \n",
            "---  ------     --------------  -----  \n",
            " 0   일자         10478 non-null  object \n",
            " 1   구분1        10478 non-null  object \n",
            " 2   발전소코드      10478 non-null  object \n",
            " 3   발전소용량(KW)  10478 non-null  float64\n",
            " 4   0:00       10478 non-null  float64\n",
            " 5   1:00       10478 non-null  float64\n",
            " 6   2:00       10478 non-null  object \n",
            " 7   3:00       10478 non-null  object \n",
            " 8   4:00       10478 non-null  object \n",
            " 9   5:00       10478 non-null  float64\n",
            " 10  6:00       10478 non-null  float64\n",
            " 11  7:00       10478 non-null  float64\n",
            " 12  8:00       10478 non-null  float64\n",
            " 13  9:00       10478 non-null  float64\n",
            " 14  10:00      10478 non-null  float64\n",
            " 15  11:00      10478 non-null  float64\n",
            " 16  12:00      10478 non-null  float64\n",
            " 17  13:00      10478 non-null  float64\n",
            " 18  14:00      10478 non-null  float64\n",
            " 19  15:00      10478 non-null  float64\n",
            " 20  16:00      10478 non-null  float64\n",
            " 21  17:00      10478 non-null  float64\n",
            " 22  18:00      10478 non-null  float64\n",
            " 23  19:00      10478 non-null  float64\n",
            " 24  20:00      10478 non-null  object \n",
            " 25  21:00      10478 non-null  object \n",
            " 26  22:00      10478 non-null  object \n",
            " 27  23:00      10478 non-null  object \n",
            " 28  합계         10478 non-null  float64\n",
            "dtypes: float64(19), object(10)\n",
            "memory usage: 2.3+ MB\n"
          ]
        }
      ]
    },
    {
      "cell_type": "code",
      "source": [
        "#null 값 확인\n",
        "print(data.isnull().sum())"
      ],
      "metadata": {
        "colab": {
          "base_uri": "https://localhost:8080/"
        },
        "id": "BxGA_FkGeQBx",
        "outputId": "9dd9a14f-444d-4280-df8f-1653cf8e98a4"
      },
      "execution_count": 149,
      "outputs": [
        {
          "output_type": "stream",
          "name": "stdout",
          "text": [
            "일자           0\n",
            "구분1          0\n",
            "발전소코드        0\n",
            "발전소용량(KW)    0\n",
            "0:00         0\n",
            "1:00         0\n",
            "2:00         0\n",
            "3:00         0\n",
            "4:00         0\n",
            "5:00         0\n",
            "6:00         0\n",
            "7:00         0\n",
            "8:00         0\n",
            "9:00         0\n",
            "10:00        0\n",
            "11:00        0\n",
            "12:00        0\n",
            "13:00        0\n",
            "14:00        0\n",
            "15:00        0\n",
            "16:00        0\n",
            "17:00        0\n",
            "18:00        0\n",
            "19:00        0\n",
            "20:00        0\n",
            "21:00        0\n",
            "22:00        0\n",
            "23:00        0\n",
            "합계           0\n",
            "dtype: int64\n"
          ]
        }
      ]
    },
    {
      "cell_type": "code",
      "source": [
        "#결측값 확인\n",
        "data.isna().sum()"
      ],
      "metadata": {
        "colab": {
          "base_uri": "https://localhost:8080/"
        },
        "id": "0zJ-sno6jO3v",
        "outputId": "ca8e032e-a3f6-47fc-d3b6-7af2b75ff3fc"
      },
      "execution_count": 150,
      "outputs": [
        {
          "output_type": "execute_result",
          "data": {
            "text/plain": [
              "일자           0\n",
              "구분1          0\n",
              "발전소코드        0\n",
              "발전소용량(KW)    0\n",
              "0:00         0\n",
              "1:00         0\n",
              "2:00         0\n",
              "3:00         0\n",
              "4:00         0\n",
              "5:00         0\n",
              "6:00         0\n",
              "7:00         0\n",
              "8:00         0\n",
              "9:00         0\n",
              "10:00        0\n",
              "11:00        0\n",
              "12:00        0\n",
              "13:00        0\n",
              "14:00        0\n",
              "15:00        0\n",
              "16:00        0\n",
              "17:00        0\n",
              "18:00        0\n",
              "19:00        0\n",
              "20:00        0\n",
              "21:00        0\n",
              "22:00        0\n",
              "23:00        0\n",
              "합계           0\n",
              "dtype: int64"
            ]
          },
          "metadata": {},
          "execution_count": 150
        }
      ]
    },
    {
      "cell_type": "code",
      "source": [
        "#데이터 타입 확인\n",
        "print(data.dtypes)"
      ],
      "metadata": {
        "colab": {
          "base_uri": "https://localhost:8080/"
        },
        "id": "zXz5OTsGWIOi",
        "outputId": "42ae4bea-b156-46fb-93ff-f64bec09224d"
      },
      "execution_count": 151,
      "outputs": [
        {
          "output_type": "stream",
          "name": "stdout",
          "text": [
            "일자            object\n",
            "구분1           object\n",
            "발전소코드         object\n",
            "발전소용량(KW)    float64\n",
            "0:00         float64\n",
            "1:00         float64\n",
            "2:00          object\n",
            "3:00          object\n",
            "4:00          object\n",
            "5:00         float64\n",
            "6:00         float64\n",
            "7:00         float64\n",
            "8:00         float64\n",
            "9:00         float64\n",
            "10:00        float64\n",
            "11:00        float64\n",
            "12:00        float64\n",
            "13:00        float64\n",
            "14:00        float64\n",
            "15:00        float64\n",
            "16:00        float64\n",
            "17:00        float64\n",
            "18:00        float64\n",
            "19:00        float64\n",
            "20:00         object\n",
            "21:00         object\n",
            "22:00         object\n",
            "23:00         object\n",
            "합계           float64\n",
            "dtype: object\n"
          ]
        }
      ]
    },
    {
      "cell_type": "code",
      "source": [
        "#중복된 데이터 확인\n",
        "sum(data.duplicated())"
      ],
      "metadata": {
        "colab": {
          "base_uri": "https://localhost:8080/"
        },
        "id": "jLWPeyGni0Rl",
        "outputId": "dbac5d87-faf6-4ade-eea1-f97f92ca7368"
      },
      "execution_count": 152,
      "outputs": [
        {
          "output_type": "execute_result",
          "data": {
            "text/plain": [
              "0"
            ]
          },
          "metadata": {},
          "execution_count": 152
        }
      ]
    },
    {
      "cell_type": "markdown",
      "source": [
        "### 열 값 범위 확인"
      ],
      "metadata": {
        "id": "7mYHcoFfiFBN"
      }
    },
    {
      "cell_type": "code",
      "source": [
        "data['발전소코드'].unique()"
      ],
      "metadata": {
        "colab": {
          "base_uri": "https://localhost:8080/"
        },
        "id": "R8jNnTikSBwo",
        "outputId": "2830bbbd-99c9-40d7-f952-76c02c8ac05d"
      },
      "execution_count": 153,
      "outputs": [
        {
          "output_type": "execute_result",
          "data": {
            "text/plain": [
              "array(['G1053', 'G1018', 'G1034', 'S5004', 'S5043', 'G1039', 'S5007',\n",
              "       'S5020', 'G1022', 'S5014', 'G1019', 'S5027', 'S5017', 'G1032',\n",
              "       'S5021', 'S5024', 'S5032', 'S5002', 'S5028', 'S5038', 'S5009',\n",
              "       'S5018', 'G1066', 'S5026', 'S5030', 'G1026', 'G1025', 'G1021',\n",
              "       'G1060', 'G1030', 'S5005', 'G1017', 'S5025', 'S5033', 'G1063',\n",
              "       'S5029', 'G1059', 'S5016', 'S5015', 'S5006', 'S5010', 'G1020',\n",
              "       'S5041', 'S5047', 'S5022', 'S5019', 'S5008', 'S5040', 'S5011',\n",
              "       'S5039', 'S5046', 'G1065', 'G1023', 'S5003', 'S5023', 'G1024',\n",
              "       'G1061', 'S5042', 'S5050', 'G1051', 'G1054', 'S5001', 'G1062',\n",
              "       'S5013', 'G1055', 'G1031', 'G1028', 'G1027', 'G1029', 'G1067',\n",
              "       'G1068', 'G1064', 'G1058', 'G1057', 'G1056', 'G1052', 'G1050',\n",
              "       'S5048', 'S5049', 'G1033', 'S5012', 'S5035', 'S5031', 'S5037',\n",
              "       'S5034', 'S5045', 'S5036', 'S5044', 'B1739', 'B1737', 'B1742',\n",
              "       'B1740', 'B1738', 'B1741', 'B1788', 'B1786', 'B1787', 'B1780',\n",
              "       'B1779', 'B1781', 'B1790', 'B1734', 'B1730', 'B1777', 'B1732',\n",
              "       'B1778', 'B1789', 'B1791', 'B1795', 'B1743', 'B1793', 'B1776',\n",
              "       'B1784', 'B1785', 'B1727', 'B1794', 'B1728', 'B1783', 'B1733',\n",
              "       'B1729', 'B1731', 'B1782', 'B1792', 'B1736', 'B1735', 'N6003',\n",
              "       'N6004', 'N6005', 'N6006', 'N6007', 'N6008', 'N6009', 'N6001',\n",
              "       'N6002', 'M1201', 'M1202', 'M1203', 'M1204', 'M1205', 'M1206',\n",
              "       'M1207', 'M1208', 'V9001', 'V9002', 'V9003', 'V9004', 'V9005',\n",
              "       'V9006', 'V9007', 'V9008', 'V9009', 'V9010', 'V9011', 'V9012',\n",
              "       'V9013', 'V9014', 'V9015', 'V9016', 'V9017', 'V9018', 'V9019',\n",
              "       'V9020', 'V9021', 'V9022', 'V9023', 'V9024', 'V9025', 'V9026',\n",
              "       'V9027'], dtype=object)"
            ]
          },
          "metadata": {},
          "execution_count": 153
        }
      ]
    },
    {
      "cell_type": "code",
      "source": [
        "code_first = data['발전소코드'].str[0]\n",
        "code_first.unique()"
      ],
      "metadata": {
        "colab": {
          "base_uri": "https://localhost:8080/"
        },
        "id": "q_9FRzzPiKLA",
        "outputId": "fc7b325d-7eae-4457-e6cc-fd185bceed21"
      },
      "execution_count": 154,
      "outputs": [
        {
          "output_type": "execute_result",
          "data": {
            "text/plain": [
              "array(['G', 'S', 'B', 'N', 'M', 'V'], dtype=object)"
            ]
          },
          "metadata": {},
          "execution_count": 154
        }
      ]
    },
    {
      "cell_type": "markdown",
      "source": [
        " - 'G'는 화력 발전소\n",
        " - 'S'는 태양광 발전소\n",
        " - 'B'는 바이오매스 발전소\n",
        " - 'N'은 원자력 발전소\n",
        " - 'M'은 연료전지 발전소\n",
        " - 'V'는 풍력 발전소"
      ],
      "metadata": {
        "id": "XYMQAAhLY401"
      }
    },
    {
      "cell_type": "code",
      "source": [
        "data['구분1'].unique()"
      ],
      "metadata": {
        "colab": {
          "base_uri": "https://localhost:8080/"
        },
        "id": "LZ8Am_K9SVtL",
        "outputId": "df9e3142-6ab9-4be8-c407-02b8242caeef"
      },
      "execution_count": 155,
      "outputs": [
        {
          "output_type": "execute_result",
          "data": {
            "text/plain": [
              "array(['실측', '예측'], dtype=object)"
            ]
          },
          "metadata": {},
          "execution_count": 155
        }
      ]
    },
    {
      "cell_type": "code",
      "source": [
        "min_size = min(data['발전소용량(KW)'])\n",
        "max_size = max(data['발전소용량(KW)'])\n",
        "\n",
        "print(min_size, max_size)"
      ],
      "metadata": {
        "colab": {
          "base_uri": "https://localhost:8080/"
        },
        "id": "3EG37IMgTCqh",
        "outputId": "d5ea3620-80f9-42c3-913a-2ff6ccae6dd6"
      },
      "execution_count": 156,
      "outputs": [
        {
          "output_type": "stream",
          "name": "stdout",
          "text": [
            "98.825 5587.56\n"
          ]
        }
      ]
    },
    {
      "cell_type": "markdown",
      "source": [
        "### 예측 데이터와 실측 데이터 분리"
      ],
      "metadata": {
        "id": "NWCiNXAoiVSk"
      }
    },
    {
      "cell_type": "code",
      "source": [
        "real_data = data.iloc[::2]\n",
        "predic_data = data.iloc[1::2]"
      ],
      "metadata": {
        "id": "va-SW68uT4Ho"
      },
      "execution_count": 157,
      "outputs": []
    },
    {
      "cell_type": "code",
      "source": [
        "real_data.head()"
      ],
      "metadata": {
        "colab": {
          "base_uri": "https://localhost:8080/",
          "height": 438
        },
        "id": "17JeSKPIUfX7",
        "outputId": "c6ed6879-5db3-493a-d7d3-de4a305ee305"
      },
      "execution_count": 158,
      "outputs": [
        {
          "output_type": "execute_result",
          "data": {
            "text/plain": [
              "           일자 구분1  발전소코드  발전소용량(KW)  0:00  1:00 2:00 3:00 4:00  5:00  ...  \\\n",
              "0  2023-03-01  실측  G1053     249.48   0.0   0.0    0    0    0   0.0  ...   \n",
              "2  2023-03-01  실측  G1018     288.00   0.0   0.0    0    0    0   0.0  ...   \n",
              "4  2023-03-01  실측  G1034     298.08  12.4   0.0    0    0    0   0.0  ...   \n",
              "6  2023-03-01  실측  S5004     300.80   0.0   0.0    0    0    0   0.0  ...   \n",
              "8  2023-03-01  실측  S5043     320.76   0.0   0.0    0    0    0   0.0  ...   \n",
              "\n",
              "    15:00   16:00   17:00   18:00  19:00  20:00  21:00  22:00  23:00       합계  \n",
              "0    0.10   65.80   33.60  133.70  161.1  150.5      0      0      0   640.90  \n",
              "2  101.26   53.50   29.09    2.21    0.0      0      0      0      0   787.25  \n",
              "4   18.60   63.80   28.80    0.60    0.0  164.2  135.6      0      0   552.40  \n",
              "6  100.80   28.18   22.52    3.54    0.0      0      0      0      0   575.38  \n",
              "8  202.84  240.25  236.49  195.64  192.6  42.67      0      0      0  1951.65  \n",
              "\n",
              "[5 rows x 29 columns]"
            ],
            "text/html": [
              "\n",
              "  <div id=\"df-31ecc822-bc1b-4bd3-834a-26b57790dfc7\">\n",
              "    <div class=\"colab-df-container\">\n",
              "      <div>\n",
              "<style scoped>\n",
              "    .dataframe tbody tr th:only-of-type {\n",
              "        vertical-align: middle;\n",
              "    }\n",
              "\n",
              "    .dataframe tbody tr th {\n",
              "        vertical-align: top;\n",
              "    }\n",
              "\n",
              "    .dataframe thead th {\n",
              "        text-align: right;\n",
              "    }\n",
              "</style>\n",
              "<table border=\"1\" class=\"dataframe\">\n",
              "  <thead>\n",
              "    <tr style=\"text-align: right;\">\n",
              "      <th></th>\n",
              "      <th>일자</th>\n",
              "      <th>구분1</th>\n",
              "      <th>발전소코드</th>\n",
              "      <th>발전소용량(KW)</th>\n",
              "      <th>0:00</th>\n",
              "      <th>1:00</th>\n",
              "      <th>2:00</th>\n",
              "      <th>3:00</th>\n",
              "      <th>4:00</th>\n",
              "      <th>5:00</th>\n",
              "      <th>...</th>\n",
              "      <th>15:00</th>\n",
              "      <th>16:00</th>\n",
              "      <th>17:00</th>\n",
              "      <th>18:00</th>\n",
              "      <th>19:00</th>\n",
              "      <th>20:00</th>\n",
              "      <th>21:00</th>\n",
              "      <th>22:00</th>\n",
              "      <th>23:00</th>\n",
              "      <th>합계</th>\n",
              "    </tr>\n",
              "  </thead>\n",
              "  <tbody>\n",
              "    <tr>\n",
              "      <th>0</th>\n",
              "      <td>2023-03-01</td>\n",
              "      <td>실측</td>\n",
              "      <td>G1053</td>\n",
              "      <td>249.48</td>\n",
              "      <td>0.0</td>\n",
              "      <td>0.0</td>\n",
              "      <td>0</td>\n",
              "      <td>0</td>\n",
              "      <td>0</td>\n",
              "      <td>0.0</td>\n",
              "      <td>...</td>\n",
              "      <td>0.10</td>\n",
              "      <td>65.80</td>\n",
              "      <td>33.60</td>\n",
              "      <td>133.70</td>\n",
              "      <td>161.1</td>\n",
              "      <td>150.5</td>\n",
              "      <td>0</td>\n",
              "      <td>0</td>\n",
              "      <td>0</td>\n",
              "      <td>640.90</td>\n",
              "    </tr>\n",
              "    <tr>\n",
              "      <th>2</th>\n",
              "      <td>2023-03-01</td>\n",
              "      <td>실측</td>\n",
              "      <td>G1018</td>\n",
              "      <td>288.00</td>\n",
              "      <td>0.0</td>\n",
              "      <td>0.0</td>\n",
              "      <td>0</td>\n",
              "      <td>0</td>\n",
              "      <td>0</td>\n",
              "      <td>0.0</td>\n",
              "      <td>...</td>\n",
              "      <td>101.26</td>\n",
              "      <td>53.50</td>\n",
              "      <td>29.09</td>\n",
              "      <td>2.21</td>\n",
              "      <td>0.0</td>\n",
              "      <td>0</td>\n",
              "      <td>0</td>\n",
              "      <td>0</td>\n",
              "      <td>0</td>\n",
              "      <td>787.25</td>\n",
              "    </tr>\n",
              "    <tr>\n",
              "      <th>4</th>\n",
              "      <td>2023-03-01</td>\n",
              "      <td>실측</td>\n",
              "      <td>G1034</td>\n",
              "      <td>298.08</td>\n",
              "      <td>12.4</td>\n",
              "      <td>0.0</td>\n",
              "      <td>0</td>\n",
              "      <td>0</td>\n",
              "      <td>0</td>\n",
              "      <td>0.0</td>\n",
              "      <td>...</td>\n",
              "      <td>18.60</td>\n",
              "      <td>63.80</td>\n",
              "      <td>28.80</td>\n",
              "      <td>0.60</td>\n",
              "      <td>0.0</td>\n",
              "      <td>164.2</td>\n",
              "      <td>135.6</td>\n",
              "      <td>0</td>\n",
              "      <td>0</td>\n",
              "      <td>552.40</td>\n",
              "    </tr>\n",
              "    <tr>\n",
              "      <th>6</th>\n",
              "      <td>2023-03-01</td>\n",
              "      <td>실측</td>\n",
              "      <td>S5004</td>\n",
              "      <td>300.80</td>\n",
              "      <td>0.0</td>\n",
              "      <td>0.0</td>\n",
              "      <td>0</td>\n",
              "      <td>0</td>\n",
              "      <td>0</td>\n",
              "      <td>0.0</td>\n",
              "      <td>...</td>\n",
              "      <td>100.80</td>\n",
              "      <td>28.18</td>\n",
              "      <td>22.52</td>\n",
              "      <td>3.54</td>\n",
              "      <td>0.0</td>\n",
              "      <td>0</td>\n",
              "      <td>0</td>\n",
              "      <td>0</td>\n",
              "      <td>0</td>\n",
              "      <td>575.38</td>\n",
              "    </tr>\n",
              "    <tr>\n",
              "      <th>8</th>\n",
              "      <td>2023-03-01</td>\n",
              "      <td>실측</td>\n",
              "      <td>S5043</td>\n",
              "      <td>320.76</td>\n",
              "      <td>0.0</td>\n",
              "      <td>0.0</td>\n",
              "      <td>0</td>\n",
              "      <td>0</td>\n",
              "      <td>0</td>\n",
              "      <td>0.0</td>\n",
              "      <td>...</td>\n",
              "      <td>202.84</td>\n",
              "      <td>240.25</td>\n",
              "      <td>236.49</td>\n",
              "      <td>195.64</td>\n",
              "      <td>192.6</td>\n",
              "      <td>42.67</td>\n",
              "      <td>0</td>\n",
              "      <td>0</td>\n",
              "      <td>0</td>\n",
              "      <td>1951.65</td>\n",
              "    </tr>\n",
              "  </tbody>\n",
              "</table>\n",
              "<p>5 rows × 29 columns</p>\n",
              "</div>\n",
              "      <button class=\"colab-df-convert\" onclick=\"convertToInteractive('df-31ecc822-bc1b-4bd3-834a-26b57790dfc7')\"\n",
              "              title=\"Convert this dataframe to an interactive table.\"\n",
              "              style=\"display:none;\">\n",
              "        \n",
              "  <svg xmlns=\"http://www.w3.org/2000/svg\" height=\"24px\"viewBox=\"0 0 24 24\"\n",
              "       width=\"24px\">\n",
              "    <path d=\"M0 0h24v24H0V0z\" fill=\"none\"/>\n",
              "    <path d=\"M18.56 5.44l.94 2.06.94-2.06 2.06-.94-2.06-.94-.94-2.06-.94 2.06-2.06.94zm-11 1L8.5 8.5l.94-2.06 2.06-.94-2.06-.94L8.5 2.5l-.94 2.06-2.06.94zm10 10l.94 2.06.94-2.06 2.06-.94-2.06-.94-.94-2.06-.94 2.06-2.06.94z\"/><path d=\"M17.41 7.96l-1.37-1.37c-.4-.4-.92-.59-1.43-.59-.52 0-1.04.2-1.43.59L10.3 9.45l-7.72 7.72c-.78.78-.78 2.05 0 2.83L4 21.41c.39.39.9.59 1.41.59.51 0 1.02-.2 1.41-.59l7.78-7.78 2.81-2.81c.8-.78.8-2.07 0-2.86zM5.41 20L4 18.59l7.72-7.72 1.47 1.35L5.41 20z\"/>\n",
              "  </svg>\n",
              "      </button>\n",
              "      \n",
              "  <style>\n",
              "    .colab-df-container {\n",
              "      display:flex;\n",
              "      flex-wrap:wrap;\n",
              "      gap: 12px;\n",
              "    }\n",
              "\n",
              "    .colab-df-convert {\n",
              "      background-color: #E8F0FE;\n",
              "      border: none;\n",
              "      border-radius: 50%;\n",
              "      cursor: pointer;\n",
              "      display: none;\n",
              "      fill: #1967D2;\n",
              "      height: 32px;\n",
              "      padding: 0 0 0 0;\n",
              "      width: 32px;\n",
              "    }\n",
              "\n",
              "    .colab-df-convert:hover {\n",
              "      background-color: #E2EBFA;\n",
              "      box-shadow: 0px 1px 2px rgba(60, 64, 67, 0.3), 0px 1px 3px 1px rgba(60, 64, 67, 0.15);\n",
              "      fill: #174EA6;\n",
              "    }\n",
              "\n",
              "    [theme=dark] .colab-df-convert {\n",
              "      background-color: #3B4455;\n",
              "      fill: #D2E3FC;\n",
              "    }\n",
              "\n",
              "    [theme=dark] .colab-df-convert:hover {\n",
              "      background-color: #434B5C;\n",
              "      box-shadow: 0px 1px 3px 1px rgba(0, 0, 0, 0.15);\n",
              "      filter: drop-shadow(0px 1px 2px rgba(0, 0, 0, 0.3));\n",
              "      fill: #FFFFFF;\n",
              "    }\n",
              "  </style>\n",
              "\n",
              "      <script>\n",
              "        const buttonEl =\n",
              "          document.querySelector('#df-31ecc822-bc1b-4bd3-834a-26b57790dfc7 button.colab-df-convert');\n",
              "        buttonEl.style.display =\n",
              "          google.colab.kernel.accessAllowed ? 'block' : 'none';\n",
              "\n",
              "        async function convertToInteractive(key) {\n",
              "          const element = document.querySelector('#df-31ecc822-bc1b-4bd3-834a-26b57790dfc7');\n",
              "          const dataTable =\n",
              "            await google.colab.kernel.invokeFunction('convertToInteractive',\n",
              "                                                     [key], {});\n",
              "          if (!dataTable) return;\n",
              "\n",
              "          const docLinkHtml = 'Like what you see? Visit the ' +\n",
              "            '<a target=\"_blank\" href=https://colab.research.google.com/notebooks/data_table.ipynb>data table notebook</a>'\n",
              "            + ' to learn more about interactive tables.';\n",
              "          element.innerHTML = '';\n",
              "          dataTable['output_type'] = 'display_data';\n",
              "          await google.colab.output.renderOutput(dataTable, element);\n",
              "          const docLink = document.createElement('div');\n",
              "          docLink.innerHTML = docLinkHtml;\n",
              "          element.appendChild(docLink);\n",
              "        }\n",
              "      </script>\n",
              "    </div>\n",
              "  </div>\n",
              "  "
            ]
          },
          "metadata": {},
          "execution_count": 158
        }
      ]
    },
    {
      "cell_type": "code",
      "source": [
        "predic_data.head()"
      ],
      "metadata": {
        "colab": {
          "base_uri": "https://localhost:8080/",
          "height": 438
        },
        "id": "ajdv1S_FUgwQ",
        "outputId": "bc0a58b0-3fc8-4dfa-fb75-d89c2c915dfd"
      },
      "execution_count": 159,
      "outputs": [
        {
          "output_type": "execute_result",
          "data": {
            "text/plain": [
              "           일자 구분1  발전소코드  발전소용량(KW)  0:00  1:00  2:00  3:00  4:00  5:00  ...  \\\n",
              "1  2023-03-01  예측  G1053     249.48  0.95  0.97  0.94  0.97  0.96  0.95  ...   \n",
              "3  2023-03-01  예측  G1018     288.00  0.00  0.00     0     0     0  0.00  ...   \n",
              "5  2023-03-01  예측  G1034     298.08  0.85  0.86  0.85  0.86  0.85  0.86  ...   \n",
              "7  2023-03-01  예측  S5004     300.80  0.00  0.00     0     0     0  0.00  ...   \n",
              "9  2023-03-01  예측  S5043     320.76  5.40  5.24  5.03  5.05  5.09  4.87  ...   \n",
              "\n",
              "    15:00   16:00   17:00   18:00   19:00   20:00  21:00  22:00  23:00  \\\n",
              "1   20.08   93.61   35.62  161.20  161.20   161.2  46.95   0.89   0.98   \n",
              "3   93.33   30.84   27.05    1.43    0.00       0      0      0      0   \n",
              "5   89.61   66.66   25.73    1.62    0.88   172.6  172.6   83.4   1.57   \n",
              "7  124.39   81.26   17.75    1.33    0.00       0      0      0      0   \n",
              "9  199.96  131.53  190.43  190.43  190.43  133.29   4.15    4.9   5.16   \n",
              "\n",
              "        합계  \n",
              "1   739.26  \n",
              "3   618.75  \n",
              "5   685.61  \n",
              "7   758.24  \n",
              "9  1170.54  \n",
              "\n",
              "[5 rows x 29 columns]"
            ],
            "text/html": [
              "\n",
              "  <div id=\"df-362bf563-22f8-4b78-addf-852bf5460898\">\n",
              "    <div class=\"colab-df-container\">\n",
              "      <div>\n",
              "<style scoped>\n",
              "    .dataframe tbody tr th:only-of-type {\n",
              "        vertical-align: middle;\n",
              "    }\n",
              "\n",
              "    .dataframe tbody tr th {\n",
              "        vertical-align: top;\n",
              "    }\n",
              "\n",
              "    .dataframe thead th {\n",
              "        text-align: right;\n",
              "    }\n",
              "</style>\n",
              "<table border=\"1\" class=\"dataframe\">\n",
              "  <thead>\n",
              "    <tr style=\"text-align: right;\">\n",
              "      <th></th>\n",
              "      <th>일자</th>\n",
              "      <th>구분1</th>\n",
              "      <th>발전소코드</th>\n",
              "      <th>발전소용량(KW)</th>\n",
              "      <th>0:00</th>\n",
              "      <th>1:00</th>\n",
              "      <th>2:00</th>\n",
              "      <th>3:00</th>\n",
              "      <th>4:00</th>\n",
              "      <th>5:00</th>\n",
              "      <th>...</th>\n",
              "      <th>15:00</th>\n",
              "      <th>16:00</th>\n",
              "      <th>17:00</th>\n",
              "      <th>18:00</th>\n",
              "      <th>19:00</th>\n",
              "      <th>20:00</th>\n",
              "      <th>21:00</th>\n",
              "      <th>22:00</th>\n",
              "      <th>23:00</th>\n",
              "      <th>합계</th>\n",
              "    </tr>\n",
              "  </thead>\n",
              "  <tbody>\n",
              "    <tr>\n",
              "      <th>1</th>\n",
              "      <td>2023-03-01</td>\n",
              "      <td>예측</td>\n",
              "      <td>G1053</td>\n",
              "      <td>249.48</td>\n",
              "      <td>0.95</td>\n",
              "      <td>0.97</td>\n",
              "      <td>0.94</td>\n",
              "      <td>0.97</td>\n",
              "      <td>0.96</td>\n",
              "      <td>0.95</td>\n",
              "      <td>...</td>\n",
              "      <td>20.08</td>\n",
              "      <td>93.61</td>\n",
              "      <td>35.62</td>\n",
              "      <td>161.20</td>\n",
              "      <td>161.20</td>\n",
              "      <td>161.2</td>\n",
              "      <td>46.95</td>\n",
              "      <td>0.89</td>\n",
              "      <td>0.98</td>\n",
              "      <td>739.26</td>\n",
              "    </tr>\n",
              "    <tr>\n",
              "      <th>3</th>\n",
              "      <td>2023-03-01</td>\n",
              "      <td>예측</td>\n",
              "      <td>G1018</td>\n",
              "      <td>288.00</td>\n",
              "      <td>0.00</td>\n",
              "      <td>0.00</td>\n",
              "      <td>0</td>\n",
              "      <td>0</td>\n",
              "      <td>0</td>\n",
              "      <td>0.00</td>\n",
              "      <td>...</td>\n",
              "      <td>93.33</td>\n",
              "      <td>30.84</td>\n",
              "      <td>27.05</td>\n",
              "      <td>1.43</td>\n",
              "      <td>0.00</td>\n",
              "      <td>0</td>\n",
              "      <td>0</td>\n",
              "      <td>0</td>\n",
              "      <td>0</td>\n",
              "      <td>618.75</td>\n",
              "    </tr>\n",
              "    <tr>\n",
              "      <th>5</th>\n",
              "      <td>2023-03-01</td>\n",
              "      <td>예측</td>\n",
              "      <td>G1034</td>\n",
              "      <td>298.08</td>\n",
              "      <td>0.85</td>\n",
              "      <td>0.86</td>\n",
              "      <td>0.85</td>\n",
              "      <td>0.86</td>\n",
              "      <td>0.85</td>\n",
              "      <td>0.86</td>\n",
              "      <td>...</td>\n",
              "      <td>89.61</td>\n",
              "      <td>66.66</td>\n",
              "      <td>25.73</td>\n",
              "      <td>1.62</td>\n",
              "      <td>0.88</td>\n",
              "      <td>172.6</td>\n",
              "      <td>172.6</td>\n",
              "      <td>83.4</td>\n",
              "      <td>1.57</td>\n",
              "      <td>685.61</td>\n",
              "    </tr>\n",
              "    <tr>\n",
              "      <th>7</th>\n",
              "      <td>2023-03-01</td>\n",
              "      <td>예측</td>\n",
              "      <td>S5004</td>\n",
              "      <td>300.80</td>\n",
              "      <td>0.00</td>\n",
              "      <td>0.00</td>\n",
              "      <td>0</td>\n",
              "      <td>0</td>\n",
              "      <td>0</td>\n",
              "      <td>0.00</td>\n",
              "      <td>...</td>\n",
              "      <td>124.39</td>\n",
              "      <td>81.26</td>\n",
              "      <td>17.75</td>\n",
              "      <td>1.33</td>\n",
              "      <td>0.00</td>\n",
              "      <td>0</td>\n",
              "      <td>0</td>\n",
              "      <td>0</td>\n",
              "      <td>0</td>\n",
              "      <td>758.24</td>\n",
              "    </tr>\n",
              "    <tr>\n",
              "      <th>9</th>\n",
              "      <td>2023-03-01</td>\n",
              "      <td>예측</td>\n",
              "      <td>S5043</td>\n",
              "      <td>320.76</td>\n",
              "      <td>5.40</td>\n",
              "      <td>5.24</td>\n",
              "      <td>5.03</td>\n",
              "      <td>5.05</td>\n",
              "      <td>5.09</td>\n",
              "      <td>4.87</td>\n",
              "      <td>...</td>\n",
              "      <td>199.96</td>\n",
              "      <td>131.53</td>\n",
              "      <td>190.43</td>\n",
              "      <td>190.43</td>\n",
              "      <td>190.43</td>\n",
              "      <td>133.29</td>\n",
              "      <td>4.15</td>\n",
              "      <td>4.9</td>\n",
              "      <td>5.16</td>\n",
              "      <td>1170.54</td>\n",
              "    </tr>\n",
              "  </tbody>\n",
              "</table>\n",
              "<p>5 rows × 29 columns</p>\n",
              "</div>\n",
              "      <button class=\"colab-df-convert\" onclick=\"convertToInteractive('df-362bf563-22f8-4b78-addf-852bf5460898')\"\n",
              "              title=\"Convert this dataframe to an interactive table.\"\n",
              "              style=\"display:none;\">\n",
              "        \n",
              "  <svg xmlns=\"http://www.w3.org/2000/svg\" height=\"24px\"viewBox=\"0 0 24 24\"\n",
              "       width=\"24px\">\n",
              "    <path d=\"M0 0h24v24H0V0z\" fill=\"none\"/>\n",
              "    <path d=\"M18.56 5.44l.94 2.06.94-2.06 2.06-.94-2.06-.94-.94-2.06-.94 2.06-2.06.94zm-11 1L8.5 8.5l.94-2.06 2.06-.94-2.06-.94L8.5 2.5l-.94 2.06-2.06.94zm10 10l.94 2.06.94-2.06 2.06-.94-2.06-.94-.94-2.06-.94 2.06-2.06.94z\"/><path d=\"M17.41 7.96l-1.37-1.37c-.4-.4-.92-.59-1.43-.59-.52 0-1.04.2-1.43.59L10.3 9.45l-7.72 7.72c-.78.78-.78 2.05 0 2.83L4 21.41c.39.39.9.59 1.41.59.51 0 1.02-.2 1.41-.59l7.78-7.78 2.81-2.81c.8-.78.8-2.07 0-2.86zM5.41 20L4 18.59l7.72-7.72 1.47 1.35L5.41 20z\"/>\n",
              "  </svg>\n",
              "      </button>\n",
              "      \n",
              "  <style>\n",
              "    .colab-df-container {\n",
              "      display:flex;\n",
              "      flex-wrap:wrap;\n",
              "      gap: 12px;\n",
              "    }\n",
              "\n",
              "    .colab-df-convert {\n",
              "      background-color: #E8F0FE;\n",
              "      border: none;\n",
              "      border-radius: 50%;\n",
              "      cursor: pointer;\n",
              "      display: none;\n",
              "      fill: #1967D2;\n",
              "      height: 32px;\n",
              "      padding: 0 0 0 0;\n",
              "      width: 32px;\n",
              "    }\n",
              "\n",
              "    .colab-df-convert:hover {\n",
              "      background-color: #E2EBFA;\n",
              "      box-shadow: 0px 1px 2px rgba(60, 64, 67, 0.3), 0px 1px 3px 1px rgba(60, 64, 67, 0.15);\n",
              "      fill: #174EA6;\n",
              "    }\n",
              "\n",
              "    [theme=dark] .colab-df-convert {\n",
              "      background-color: #3B4455;\n",
              "      fill: #D2E3FC;\n",
              "    }\n",
              "\n",
              "    [theme=dark] .colab-df-convert:hover {\n",
              "      background-color: #434B5C;\n",
              "      box-shadow: 0px 1px 3px 1px rgba(0, 0, 0, 0.15);\n",
              "      filter: drop-shadow(0px 1px 2px rgba(0, 0, 0, 0.3));\n",
              "      fill: #FFFFFF;\n",
              "    }\n",
              "  </style>\n",
              "\n",
              "      <script>\n",
              "        const buttonEl =\n",
              "          document.querySelector('#df-362bf563-22f8-4b78-addf-852bf5460898 button.colab-df-convert');\n",
              "        buttonEl.style.display =\n",
              "          google.colab.kernel.accessAllowed ? 'block' : 'none';\n",
              "\n",
              "        async function convertToInteractive(key) {\n",
              "          const element = document.querySelector('#df-362bf563-22f8-4b78-addf-852bf5460898');\n",
              "          const dataTable =\n",
              "            await google.colab.kernel.invokeFunction('convertToInteractive',\n",
              "                                                     [key], {});\n",
              "          if (!dataTable) return;\n",
              "\n",
              "          const docLinkHtml = 'Like what you see? Visit the ' +\n",
              "            '<a target=\"_blank\" href=https://colab.research.google.com/notebooks/data_table.ipynb>data table notebook</a>'\n",
              "            + ' to learn more about interactive tables.';\n",
              "          element.innerHTML = '';\n",
              "          dataTable['output_type'] = 'display_data';\n",
              "          await google.colab.output.renderOutput(dataTable, element);\n",
              "          const docLink = document.createElement('div');\n",
              "          docLink.innerHTML = docLinkHtml;\n",
              "          element.appendChild(docLink);\n",
              "        }\n",
              "      </script>\n",
              "    </div>\n",
              "  </div>\n",
              "  "
            ]
          },
          "metadata": {},
          "execution_count": 159
        }
      ]
    },
    {
      "cell_type": "markdown",
      "source": [
        "### 데이터 타입 변환"
      ],
      "metadata": {
        "id": "gjq49BDFieOn"
      }
    },
    {
      "cell_type": "code",
      "source": [
        "data['일자'] = pd.to_datetime(data['일자'])"
      ],
      "metadata": {
        "id": "wkdhsiriUiP-"
      },
      "execution_count": 160,
      "outputs": []
    },
    {
      "cell_type": "code",
      "source": [
        "for col in data.columns:\n",
        "    if data[col].dtype == 'object':\n",
        "      if col != '구분1' and col != '발전소코드':\n",
        "        data[col] = pd.to_numeric(data[col], errors='coerce')"
      ],
      "metadata": {
        "id": "1Dk0ktLmWrez"
      },
      "execution_count": 161,
      "outputs": []
    },
    {
      "cell_type": "code",
      "source": [
        "data.dtypes"
      ],
      "metadata": {
        "colab": {
          "base_uri": "https://localhost:8080/"
        },
        "id": "pF8AwZNYXAz7",
        "outputId": "e97ea56a-3ade-41f9-e65e-62557da85f04"
      },
      "execution_count": 162,
      "outputs": [
        {
          "output_type": "execute_result",
          "data": {
            "text/plain": [
              "일자           datetime64[ns]\n",
              "구분1                  object\n",
              "발전소코드                object\n",
              "발전소용량(KW)           float64\n",
              "0:00                float64\n",
              "1:00                float64\n",
              "2:00                float64\n",
              "3:00                float64\n",
              "4:00                float64\n",
              "5:00                float64\n",
              "6:00                float64\n",
              "7:00                float64\n",
              "8:00                float64\n",
              "9:00                float64\n",
              "10:00               float64\n",
              "11:00               float64\n",
              "12:00               float64\n",
              "13:00               float64\n",
              "14:00               float64\n",
              "15:00               float64\n",
              "16:00               float64\n",
              "17:00               float64\n",
              "18:00               float64\n",
              "19:00               float64\n",
              "20:00               float64\n",
              "21:00               float64\n",
              "22:00               float64\n",
              "23:00               float64\n",
              "합계                  float64\n",
              "dtype: object"
            ]
          },
          "metadata": {},
          "execution_count": 162
        }
      ]
    },
    {
      "cell_type": "code",
      "source": [
        "data.isna().sum()"
      ],
      "metadata": {
        "colab": {
          "base_uri": "https://localhost:8080/"
        },
        "id": "msZEuut1luv6",
        "outputId": "e33281a8-78ab-46b0-f64b-1f1f2baafee5"
      },
      "execution_count": 163,
      "outputs": [
        {
          "output_type": "execute_result",
          "data": {
            "text/plain": [
              "일자           0\n",
              "구분1          0\n",
              "발전소코드        0\n",
              "발전소용량(KW)    0\n",
              "0:00         0\n",
              "1:00         0\n",
              "2:00         1\n",
              "3:00         2\n",
              "4:00         1\n",
              "5:00         0\n",
              "6:00         0\n",
              "7:00         0\n",
              "8:00         0\n",
              "9:00         0\n",
              "10:00        0\n",
              "11:00        0\n",
              "12:00        0\n",
              "13:00        0\n",
              "14:00        0\n",
              "15:00        0\n",
              "16:00        0\n",
              "17:00        0\n",
              "18:00        0\n",
              "19:00        0\n",
              "20:00        1\n",
              "21:00        2\n",
              "22:00        1\n",
              "23:00        1\n",
              "합계           0\n",
              "dtype: int64"
            ]
          },
          "metadata": {},
          "execution_count": 163
        }
      ]
    },
    {
      "cell_type": "code",
      "source": [
        "data = data.dropna(axis = 0)\n",
        "data.info()"
      ],
      "metadata": {
        "colab": {
          "base_uri": "https://localhost:8080/"
        },
        "id": "PpzGinEsl4lr",
        "outputId": "38d1c50f-6509-429d-dde6-7611e84991e2"
      },
      "execution_count": 164,
      "outputs": [
        {
          "output_type": "stream",
          "name": "stdout",
          "text": [
            "<class 'pandas.core.frame.DataFrame'>\n",
            "Int64Index: 10469 entries, 0 to 10477\n",
            "Data columns (total 29 columns):\n",
            " #   Column     Non-Null Count  Dtype         \n",
            "---  ------     --------------  -----         \n",
            " 0   일자         10469 non-null  datetime64[ns]\n",
            " 1   구분1        10469 non-null  object        \n",
            " 2   발전소코드      10469 non-null  object        \n",
            " 3   발전소용량(KW)  10469 non-null  float64       \n",
            " 4   0:00       10469 non-null  float64       \n",
            " 5   1:00       10469 non-null  float64       \n",
            " 6   2:00       10469 non-null  float64       \n",
            " 7   3:00       10469 non-null  float64       \n",
            " 8   4:00       10469 non-null  float64       \n",
            " 9   5:00       10469 non-null  float64       \n",
            " 10  6:00       10469 non-null  float64       \n",
            " 11  7:00       10469 non-null  float64       \n",
            " 12  8:00       10469 non-null  float64       \n",
            " 13  9:00       10469 non-null  float64       \n",
            " 14  10:00      10469 non-null  float64       \n",
            " 15  11:00      10469 non-null  float64       \n",
            " 16  12:00      10469 non-null  float64       \n",
            " 17  13:00      10469 non-null  float64       \n",
            " 18  14:00      10469 non-null  float64       \n",
            " 19  15:00      10469 non-null  float64       \n",
            " 20  16:00      10469 non-null  float64       \n",
            " 21  17:00      10469 non-null  float64       \n",
            " 22  18:00      10469 non-null  float64       \n",
            " 23  19:00      10469 non-null  float64       \n",
            " 24  20:00      10469 non-null  float64       \n",
            " 25  21:00      10469 non-null  float64       \n",
            " 26  22:00      10469 non-null  float64       \n",
            " 27  23:00      10469 non-null  float64       \n",
            " 28  합계         10469 non-null  float64       \n",
            "dtypes: datetime64[ns](1), float64(26), object(2)\n",
            "memory usage: 2.4+ MB\n"
          ]
        }
      ]
    },
    {
      "cell_type": "markdown",
      "source": [
        "결측값을 가진 데이터 행을 삭제시킴으로써 9개의 행이 사라짐"
      ],
      "metadata": {
        "id": "LZShFHLbm93Q"
      }
    },
    {
      "cell_type": "markdown",
      "source": [
        "### 각 시간별 데이터"
      ],
      "metadata": {
        "id": "6Y4oPyp8ilIH"
      }
    },
    {
      "cell_type": "code",
      "source": [
        "time_names = [f\"{i}:00\" for i in range(24)]\n",
        "\n",
        "time_means = []\n",
        "for col in time_names:\n",
        "    if col in data.columns:\n",
        "        time_means.append(data[col].mean())\n",
        "    else:\n",
        "        time_means.append(None)\n",
        "\n",
        "for col, col_mean in zip(time_names, time_means):\n",
        "    print(f\"time {col}: Mean = {col_mean}\")"
      ],
      "metadata": {
        "colab": {
          "base_uri": "https://localhost:8080/"
        },
        "id": "_C-sk-edXEDV",
        "outputId": "29ac9324-dca4-4f27-85ec-a2ba5ef9a8e4"
      },
      "execution_count": 165,
      "outputs": [
        {
          "output_type": "stream",
          "name": "stdout",
          "text": [
            "time 0:00: Mean = 5.540356289999044\n",
            "time 1:00: Mean = 3.8512025981469096\n",
            "time 2:00: Mean = 1.7852879931225523\n",
            "time 3:00: Mean = 1.4307784888719075\n",
            "time 4:00: Mean = 1.4131397459165154\n",
            "time 5:00: Mean = 1.396815359633203\n",
            "time 6:00: Mean = 3.0705024357627275\n",
            "time 7:00: Mean = 60.73021874104499\n",
            "time 8:00: Mean = 230.8089168019868\n",
            "time 9:00: Mean = 433.9171754704365\n",
            "time 10:00: Mean = 312.97480084057696\n",
            "time 11:00: Mean = 350.7901079377209\n",
            "time 12:00: Mean = 374.6643251504442\n",
            "time 13:00: Mean = 401.14246823956444\n",
            "time 14:00: Mean = 520.1231091794823\n",
            "time 15:00: Mean = 478.6141016333938\n",
            "time 16:00: Mean = 334.0541818702836\n",
            "time 17:00: Mean = 291.8700630432706\n",
            "time 18:00: Mean = 268.06616773330785\n",
            "time 19:00: Mean = 266.4536584200974\n",
            "time 20:00: Mean = 299.66241665870666\n",
            "time 21:00: Mean = 243.4976444741618\n",
            "time 22:00: Mean = 114.46459547234694\n",
            "time 23:00: Mean = 41.420383035629\n"
          ]
        }
      ]
    },
    {
      "cell_type": "code",
      "source": [
        "start = min(data['일자'])\n",
        "end = max(data['일자'])\n",
        "\n",
        "print(start, end)"
      ],
      "metadata": {
        "colab": {
          "base_uri": "https://localhost:8080/"
        },
        "id": "6YGrPOSKXSP1",
        "outputId": "b96ad78f-9fc0-4541-a4df-0b95eec6bb88"
      },
      "execution_count": 166,
      "outputs": [
        {
          "output_type": "stream",
          "name": "stdout",
          "text": [
            "2023-03-01 00:00:00 2023-03-31 00:00:00\n"
          ]
        }
      ]
    },
    {
      "cell_type": "markdown",
      "source": [
        "##EDA"
      ],
      "metadata": {
        "id": "swOk3l93n4Qa"
      }
    },
    {
      "cell_type": "code",
      "source": [
        "import matplotlib.pyplot as plt"
      ],
      "metadata": {
        "id": "sjaQR5-YoJwi"
      },
      "execution_count": 167,
      "outputs": []
    },
    {
      "cell_type": "code",
      "source": [
        "plt.scatter(data['발전소코드'].str[0], data['발전소용량(KW)'], alpha=0.1)"
      ],
      "metadata": {
        "id": "wp_5TgYYiSt1",
        "colab": {
          "base_uri": "https://localhost:8080/",
          "height": 448
        },
        "outputId": "cc9f2d52-bb8a-4e2c-d9fe-6f91a0f50c25"
      },
      "execution_count": 168,
      "outputs": [
        {
          "output_type": "execute_result",
          "data": {
            "text/plain": [
              "<matplotlib.collections.PathCollection at 0x7f42af2becb0>"
            ]
          },
          "metadata": {},
          "execution_count": 168
        },
        {
          "output_type": "display_data",
          "data": {
            "text/plain": [
              "<Figure size 640x480 with 1 Axes>"
            ],
            "image/png": "[encoded data removed]"
          },
          "metadata": {}
        }
      ]
    },
    {
      "cell_type": "code",
      "source": [
        "plt.scatter(data['발전소코드'].str[0], data['합계'], alpha= 0.1)"
      ],
      "metadata": {
        "colab": {
          "base_uri": "https://localhost:8080/",
          "height": 451
        },
        "id": "dh1gcOInoFv4",
        "outputId": "d57a13f7-d7e9-44b5-97ba-dfa427034d7a"
      },
      "execution_count": 169,
      "outputs": [
        {
          "output_type": "execute_result",
          "data": {
            "text/plain": [
              "<matplotlib.collections.PathCollection at 0x7f42af18d780>"
            ]
          },
          "metadata": {},
          "execution_count": 169
        },
        {
          "output_type": "display_data",
          "data": {
            "text/plain": [
              "<Figure size 640x480 with 1 Axes>"
            ],
            "image/png": "[encoded data removed]"
          },
          "metadata": {}
        }
      ]
    },
    {
      "cell_type": "code",
      "source": [
        "plt.hist(data['합계'])"
      ],
      "metadata": {
        "colab": {
          "base_uri": "https://localhost:8080/",
          "height": 539
        },
        "id": "nMdKEEYEpppJ",
        "outputId": "d45c5751-99fc-4829-be57-fb1a124e16bb"
      },
      "execution_count": 170,
      "outputs": [
        {
          "output_type": "execute_result",
          "data": {
            "text/plain": [
              "(array([8.036e+03, 1.169e+03, 1.012e+03, 1.910e+02, 2.600e+01, 3.100e+01,\n",
              "        3.000e+00, 0.000e+00, 0.000e+00, 1.000e+00]),\n",
              " array([4.9200000e+01, 5.7976730e+03, 1.1546146e+04, 1.7294619e+04,\n",
              "        2.3043092e+04, 2.8791565e+04, 3.4540038e+04, 4.0288511e+04,\n",
              "        4.6036984e+04, 5.1785457e+04, 5.7533930e+04]),\n",
              " <BarContainer object of 10 artists>)"
            ]
          },
          "metadata": {},
          "execution_count": 170
        },
        {
          "output_type": "display_data",
          "data": {
            "text/plain": [
              "<Figure size 640x480 with 1 Axes>"
            ],
            "image/png": "[encoded data removed]"
          },
          "metadata": {}
        }
      ]
    },
    {
      "cell_type": "code",
      "source": [
        "plt.hist(data['발전소용량(KW)'])"
      ],
      "metadata": {
        "colab": {
          "base_uri": "https://localhost:8080/",
          "height": 520
        },
        "id": "P2cOJQVTqCGX",
        "outputId": "0e568fd1-2b0d-431a-f0e5-9abfc7d8af06"
      },
      "execution_count": 171,
      "outputs": [
        {
          "output_type": "execute_result",
          "data": {
            "text/plain": [
              "(array([3463., 4340.,  434.,  496.,  496., 1178.,    0.,    0.,    0.,\n",
              "          62.]),\n",
              " array([  98.825 ,  647.6985, 1196.572 , 1745.4455, 2294.319 , 2843.1925,\n",
              "        3392.066 , 3940.9395, 4489.813 , 5038.6865, 5587.56  ]),\n",
              " <BarContainer object of 10 artists>)"
            ]
          },
          "metadata": {},
          "execution_count": 171
        },
        {
          "output_type": "display_data",
          "data": {
            "text/plain": [
              "<Figure size 640x480 with 1 Axes>"
            ],
            "image/png": "[encoded data removed]"
          },
          "metadata": {}
        }
      ]
    },
    {
      "cell_type": "code",
      "source": [
        "sub_d = data\n",
        "sub_d['발전소코드'] = sub_d['발전소코드'].str[0]"
      ],
      "metadata": {
        "id": "Za_ISLrFqF-O"
      },
      "execution_count": 172,
      "outputs": []
    },
    {
      "cell_type": "code",
      "source": [
        "plt.hist(sub_d['발전소코드'])"
      ],
      "metadata": {
        "colab": {
          "base_uri": "https://localhost:8080/",
          "height": 502
        },
        "id": "KQMtD_aFqQOk",
        "outputId": "6ea269d4-3fe4-4481-be1d-431050628637"
      },
      "execution_count": 173,
      "outputs": [
        {
          "output_type": "execute_result",
          "data": {
            "text/plain": [
              "(array([2356.,    0., 3091.,    0., 2294.,    0.,  558.,    0.,  496.,\n",
              "        1674.]),\n",
              " array([0. , 0.5, 1. , 1.5, 2. , 2.5, 3. , 3.5, 4. , 4.5, 5. ]),\n",
              " <BarContainer object of 10 artists>)"
            ]
          },
          "metadata": {},
          "execution_count": 173
        },
        {
          "output_type": "display_data",
          "data": {
            "text/plain": [
              "<Figure size 640x480 with 1 Axes>"
            ],
            "image/png": "[encoded data removed]"
          },
          "metadata": {}
        }
      ]
    }
  ]
}