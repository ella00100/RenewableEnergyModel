{
  "nbformat": 4,
  "nbformat_minor": 0,
  "metadata": {
    "colab": {
      "provenance": [],
      "authorship_tag": "ABX9TyMUWst8DxLg2k0zlRM5oL2G",
      "include_colab_link": true
    },
    "kernelspec": {
      "name": "python3",
      "display_name": "Python 3"
    },
    "language_info": {
      "name": "python"
    }
  },
  "cells": [
    {
      "cell_type": "markdown",
      "metadata": {
        "id": "view-in-github",
        "colab_type": "text"
      },
      "source": [
        "<a href=\"https://colab.research.google.com/github/ella00100/RenewableEnergyModel/blob/main/renewableEnergy_Model_data.ipynb\" target=\"_parent\"><img src=\"https://colab.research.google.com/assets/colab-badge.svg\" alt=\"Open In Colab\"/></a>"
      ]
    },
    {
      "cell_type": "markdown",
      "source": [
        "#재생에너지 발전량 예측제도\n",
        "\n"
      ],
      "metadata": {
        "id": "mtVGwXFYPpDP"
      }
    },
    {
      "cell_type": "markdown",
      "source": [
        "##1. 데이터 불러오기"
      ],
      "metadata": {
        "id": "kQTB8pZyhqPA"
      }
    },
    {
      "cell_type": "code",
      "execution_count": 142,
      "metadata": {
        "colab": {
          "base_uri": "https://localhost:8080/",
          "height": 76
        },
        "id": "et8E7-v9Plz_",
        "outputId": "5e4c9839-3400-4612-e20f-e88130827290"
      },
      "outputs": [
        {
          "output_type": "display_data",
          "data": {
            "text/plain": [
              "<IPython.core.display.HTML object>"
            ],
            "text/html": [
              "\n",
              "     <input type=\"file\" id=\"files-a1dc8261-a7d2-4f37-b8d7-10e4c3d78802\" name=\"files[]\" multiple disabled\n",
              "        style=\"border:none\" />\n",
              "     <output id=\"result-a1dc8261-a7d2-4f37-b8d7-10e4c3d78802\">\n",
              "      Upload widget is only available when the cell has been executed in the\n",
              "      current browser session. Please rerun this cell to enable.\n",
              "      </output>\n",
              "      <script>// Copyright 2017 Google LLC\n",
              "//\n",
              "// Licensed under the Apache License, Version 2.0 (the \"License\");\n",
              "// you may not use this file except in compliance with the License.\n",
              "// You may obtain a copy of the License at\n",
              "//\n",
              "//      http://www.apache.org/licenses/LICENSE-2.0\n",
              "//\n",
              "// Unless required by applicable law or agreed to in writing, software\n",
              "// distributed under the License is distributed on an \"AS IS\" BASIS,\n",
              "// WITHOUT WARRANTIES OR CONDITIONS OF ANY KIND, either express or implied.\n",
              "// See the License for the specific language governing permissions and\n",
              "// limitations under the License.\n",
              "\n",
              "/**\n",
              " * @fileoverview Helpers for google.colab Python module.\n",
              " */\n",
              "(function(scope) {\n",
              "function span(text, styleAttributes = {}) {\n",
              "  const element = document.createElement('span');\n",
              "  element.textContent = text;\n",
              "  for (const key of Object.keys(styleAttributes)) {\n",
              "    element.style[key] = styleAttributes[key];\n",
              "  }\n",
              "  return element;\n",
              "}\n",
              "\n",
              "// Max number of bytes which will be uploaded at a time.\n",
              "const MAX_PAYLOAD_SIZE = 100 * 1024;\n",
              "\n",
              "function _uploadFiles(inputId, outputId) {\n",
              "  const steps = uploadFilesStep(inputId, outputId);\n",
              "  const outputElement = document.getElementById(outputId);\n",
              "  // Cache steps on the outputElement to make it available for the next call\n",
              "  // to uploadFilesContinue from Python.\n",
              "  outputElement.steps = steps;\n",
              "\n",
              "  return _uploadFilesContinue(outputId);\n",
              "}\n",
              "\n",
              "// This is roughly an async generator (not supported in the browser yet),\n",
              "// where there are multiple asynchronous steps and the Python side is going\n",
              "// to poll for completion of each step.\n",
              "// This uses a Promise to block the python side on completion of each step,\n",
              "// then passes the result of the previous step as the input to the next step.\n",
              "function _uploadFilesContinue(outputId) {\n",
              "  const outputElement = document.getElementById(outputId);\n",
              "  const steps = outputElement.steps;\n",
              "\n",
              "  const next = steps.next(outputElement.lastPromiseValue);\n",
              "  return Promise.resolve(next.value.promise).then((value) => {\n",
              "    // Cache the last promise value to make it available to the next\n",
              "    // step of the generator.\n",
              "    outputElement.lastPromiseValue = value;\n",
              "    return next.value.response;\n",
              "  });\n",
              "}\n",
              "\n",
              "/**\n",
              " * Generator function which is called between each async step of the upload\n",
              " * process.\n",
              " * @param {string} inputId Element ID of the input file picker element.\n",
              " * @param {string} outputId Element ID of the output display.\n",
              " * @return {!Iterable<!Object>} Iterable of next steps.\n",
              " */\n",
              "function* uploadFilesStep(inputId, outputId) {\n",
              "  const inputElement = document.getElementById(inputId);\n",
              "  inputElement.disabled = false;\n",
              "\n",
              "  const outputElement = document.getElementById(outputId);\n",
              "  outputElement.innerHTML = '';\n",
              "\n",
              "  const pickedPromise = new Promise((resolve) => {\n",
              "    inputElement.addEventListener('change', (e) => {\n",
              "      resolve(e.target.files);\n",
              "    });\n",
              "  });\n",
              "\n",
              "  const cancel = document.createElement('button');\n",
              "  inputElement.parentElement.appendChild(cancel);\n",
              "  cancel.textContent = 'Cancel upload';\n",
              "  const cancelPromise = new Promise((resolve) => {\n",
              "    cancel.onclick = () => {\n",
              "      resolve(null);\n",
              "    };\n",
              "  });\n",
              "\n",
              "  // Wait for the user to pick the files.\n",
              "  const files = yield {\n",
              "    promise: Promise.race([pickedPromise, cancelPromise]),\n",
              "    response: {\n",
              "      action: 'starting',\n",
              "    }\n",
              "  };\n",
              "\n",
              "  cancel.remove();\n",
              "\n",
              "  // Disable the input element since further picks are not allowed.\n",
              "  inputElement.disabled = true;\n",
              "\n",
              "  if (!files) {\n",
              "    return {\n",
              "      response: {\n",
              "        action: 'complete',\n",
              "      }\n",
              "    };\n",
              "  }\n",
              "\n",
              "  for (const file of files) {\n",
              "    const li = document.createElement('li');\n",
              "    li.append(span(file.name, {fontWeight: 'bold'}));\n",
              "    li.append(span(\n",
              "        `(${file.type || 'n/a'}) - ${file.size} bytes, ` +\n",
              "        `last modified: ${\n",
              "            file.lastModifiedDate ? file.lastModifiedDate.toLocaleDateString() :\n",
              "                                    'n/a'} - `));\n",
              "    const percent = span('0% done');\n",
              "    li.appendChild(percent);\n",
              "\n",
              "    outputElement.appendChild(li);\n",
              "\n",
              "    const fileDataPromise = new Promise((resolve) => {\n",
              "      const reader = new FileReader();\n",
              "      reader.onload = (e) => {\n",
              "        resolve(e.target.result);\n",
              "      };\n",
              "      reader.readAsArrayBuffer(file);\n",
              "    });\n",
              "    // Wait for the data to be ready.\n",
              "    let fileData = yield {\n",
              "      promise: fileDataPromise,\n",
              "      response: {\n",
              "        action: 'continue',\n",
              "      }\n",
              "    };\n",
              "\n",
              "    // Use a chunked sending to avoid message size limits. See b/62115660.\n",
              "    let position = 0;\n",
              "    do {\n",
              "      const length = Math.min(fileData.byteLength - position, MAX_PAYLOAD_SIZE);\n",
              "      const chunk = new Uint8Array(fileData, position, length);\n",
              "      position += length;\n",
              "\n",
              "      const base64 = btoa(String.fromCharCode.apply(null, chunk));\n",
              "      yield {\n",
              "        response: {\n",
              "          action: 'append',\n",
              "          file: file.name,\n",
              "          data: base64,\n",
              "        },\n",
              "      };\n",
              "\n",
              "      let percentDone = fileData.byteLength === 0 ?\n",
              "          100 :\n",
              "          Math.round((position / fileData.byteLength) * 100);\n",
              "      percent.textContent = `${percentDone}% done`;\n",
              "\n",
              "    } while (position < fileData.byteLength);\n",
              "  }\n",
              "\n",
              "  // All done.\n",
              "  yield {\n",
              "    response: {\n",
              "      action: 'complete',\n",
              "    }\n",
              "  };\n",
              "}\n",
              "\n",
              "scope.google = scope.google || {};\n",
              "scope.google.colab = scope.google.colab || {};\n",
              "scope.google.colab._files = {\n",
              "  _uploadFiles,\n",
              "  _uploadFilesContinue,\n",
              "};\n",
              "})(self);\n",
              "</script> "
            ]
          },
          "metadata": {}
        },
        {
          "output_type": "stream",
          "name": "stdout",
          "text": [
            "Saving test_data.csv to test_data (4).csv\n"
          ]
        }
      ],
      "source": [
        "from google.colab import files\n",
        "uploaded = files.upload()"
      ]
    },
    {
      "cell_type": "code",
      "source": [
        "import io\n",
        "import pandas as pd\n",
        "data = pd.read_csv('test_data.csv')"
      ],
      "metadata": {
        "id": "GabHuBqcRQcU"
      },
      "execution_count": 143,
      "outputs": []
    },
    {
      "cell_type": "markdown",
      "source": [
        "##2. 데이터 탐색"
      ],
      "metadata": {
        "id": "0cNLWVT9hvjj"
      }
    },
    {
      "cell_type": "code",
      "source": [
        "data.head()"
      ],
      "metadata": {
        "colab": {
          "base_uri": "https://localhost:8080/",
          "height": 235
        },
        "id": "uL0PR0yTR0Pg",
        "outputId": "465f554f-8990-4393-bccd-bc5d2a2bf0c0"
      },
      "execution_count": 144,
      "outputs": [
        {
          "output_type": "execute_result",
          "data": {
            "text/plain": [
              "           일자 구분1  발전소코드  발전소용량(KW)   0:00  1:00  2:00  3:00  4:00  5:00  ...  \\\n",
              "0  2023-03-01  실측  G1053     249.48   0.00  0.00     0     0     0  0.00  ...   \n",
              "1  2023-03-01  예측  G1053     249.48   0.95  0.97  0.94  0.97  0.96  0.95  ...   \n",
              "2  2023-03-01  실측  G1018     288.00   0.00  0.00     0     0     0  0.00  ...   \n",
              "3  2023-03-01  예측  G1018     288.00   0.00  0.00     0     0     0  0.00  ...   \n",
              "4  2023-03-01  실측  G1034     298.08  12.40  0.00     0     0     0  0.00  ...   \n",
              "\n",
              "    15:00  16:00  17:00   18:00  19:00  20:00  21:00  22:00  23:00      합계  \n",
              "0    0.10  65.80  33.60  133.70  161.1  150.5      0      0      0  640.90  \n",
              "1   20.08  93.61  35.62  161.20  161.2  161.2  46.95   0.89   0.98  739.26  \n",
              "2  101.26  53.50  29.09    2.21    0.0      0      0      0      0  787.25  \n",
              "3   93.33  30.84  27.05    1.43    0.0      0      0      0      0  618.75  \n",
              "4   18.60  63.80  28.80    0.60    0.0  164.2  135.6      0      0  552.40  \n",
              "\n",
              "[5 rows x 29 columns]"
            ],
            "text/html": [
              "\n",
              "  <div id=\"df-aaaf3adc-8b62-45d9-9743-71964416dccd\">\n",
              "    <div class=\"colab-df-container\">\n",
              "      <div>\n",
              "<style scoped>\n",
              "    .dataframe tbody tr th:only-of-type {\n",
              "        vertical-align: middle;\n",
              "    }\n",
              "\n",
              "    .dataframe tbody tr th {\n",
              "        vertical-align: top;\n",
              "    }\n",
              "\n",
              "    .dataframe thead th {\n",
              "        text-align: right;\n",
              "    }\n",
              "</style>\n",
              "<table border=\"1\" class=\"dataframe\">\n",
              "  <thead>\n",
              "    <tr style=\"text-align: right;\">\n",
              "      <th></th>\n",
              "      <th>일자</th>\n",
              "      <th>구분1</th>\n",
              "      <th>발전소코드</th>\n",
              "      <th>발전소용량(KW)</th>\n",
              "      <th>0:00</th>\n",
              "      <th>1:00</th>\n",
              "      <th>2:00</th>\n",
              "      <th>3:00</th>\n",
              "      <th>4:00</th>\n",
              "      <th>5:00</th>\n",
              "      <th>...</th>\n",
              "      <th>15:00</th>\n",
              "      <th>16:00</th>\n",
              "      <th>17:00</th>\n",
              "      <th>18:00</th>\n",
              "      <th>19:00</th>\n",
              "      <th>20:00</th>\n",
              "      <th>21:00</th>\n",
              "      <th>22:00</th>\n",
              "      <th>23:00</th>\n",
              "      <th>합계</th>\n",
              "    </tr>\n",
              "  </thead>\n",
              "  <tbody>\n",
              "    <tr>\n",
              "      <th>0</th>\n",
              "      <td>2023-03-01</td>\n",
              "      <td>실측</td>\n",
              "      <td>G1053</td>\n",
              "      <td>249.48</td>\n",
              "      <td>0.00</td>\n",
              "      <td>0.00</td>\n",
              "      <td>0</td>\n",
              "      <td>0</td>\n",
              "      <td>0</td>\n",
              "      <td>0.00</td>\n",
              "      <td>...</td>\n",
              "      <td>0.10</td>\n",
              "      <td>65.80</td>\n",
              "      <td>33.60</td>\n",
              "      <td>133.70</td>\n",
              "      <td>161.1</td>\n",
              "      <td>150.5</td>\n",
              "      <td>0</td>\n",
              "      <td>0</td>\n",
              "      <td>0</td>\n",
              "      <td>640.90</td>\n",
              "    </tr>\n",
              "    <tr>\n",
              "      <th>1</th>\n",
              "      <td>2023-03-01</td>\n",
              "      <td>예측</td>\n",
              "      <td>G1053</td>\n",
              "      <td>249.48</td>\n",
              "      <td>0.95</td>\n",
              "      <td>0.97</td>\n",
              "      <td>0.94</td>\n",
              "      <td>0.97</td>\n",
              "      <td>0.96</td>\n",
              "      <td>0.95</td>\n",
              "      <td>...</td>\n",
              "      <td>20.08</td>\n",
              "      <td>93.61</td>\n",
              "      <td>35.62</td>\n",
              "      <td>161.20</td>\n",
              "      <td>161.2</td>\n",
              "      <td>161.2</td>\n",
              "      <td>46.95</td>\n",
              "      <td>0.89</td>\n",
              "      <td>0.98</td>\n",
              "      <td>739.26</td>\n",
              "    </tr>\n",
              "    <tr>\n",
              "      <th>2</th>\n",
              "      <td>2023-03-01</td>\n",
              "      <td>실측</td>\n",
              "      <td>G1018</td>\n",
              "      <td>288.00</td>\n",
              "      <td>0.00</td>\n",
              "      <td>0.00</td>\n",
              "      <td>0</td>\n",
              "      <td>0</td>\n",
              "      <td>0</td>\n",
              "      <td>0.00</td>\n",
              "      <td>...</td>\n",
              "      <td>101.26</td>\n",
              "      <td>53.50</td>\n",
              "      <td>29.09</td>\n",
              "      <td>2.21</td>\n",
              "      <td>0.0</td>\n",
              "      <td>0</td>\n",
              "      <td>0</td>\n",
              "      <td>0</td>\n",
              "      <td>0</td>\n",
              "      <td>787.25</td>\n",
              "    </tr>\n",
              "    <tr>\n",
              "      <th>3</th>\n",
              "      <td>2023-03-01</td>\n",
              "      <td>예측</td>\n",
              "      <td>G1018</td>\n",
              "      <td>288.00</td>\n",
              "      <td>0.00</td>\n",
              "      <td>0.00</td>\n",
              "      <td>0</td>\n",
              "      <td>0</td>\n",
              "      <td>0</td>\n",
              "      <td>0.00</td>\n",
              "      <td>...</td>\n",
              "      <td>93.33</td>\n",
              "      <td>30.84</td>\n",
              "      <td>27.05</td>\n",
              "      <td>1.43</td>\n",
              "      <td>0.0</td>\n",
              "      <td>0</td>\n",
              "      <td>0</td>\n",
              "      <td>0</td>\n",
              "      <td>0</td>\n",
              "      <td>618.75</td>\n",
              "    </tr>\n",
              "    <tr>\n",
              "      <th>4</th>\n",
              "      <td>2023-03-01</td>\n",
              "      <td>실측</td>\n",
              "      <td>G1034</td>\n",
              "      <td>298.08</td>\n",
              "      <td>12.40</td>\n",
              "      <td>0.00</td>\n",
              "      <td>0</td>\n",
              "      <td>0</td>\n",
              "      <td>0</td>\n",
              "      <td>0.00</td>\n",
              "      <td>...</td>\n",
              "      <td>18.60</td>\n",
              "      <td>63.80</td>\n",
              "      <td>28.80</td>\n",
              "      <td>0.60</td>\n",
              "      <td>0.0</td>\n",
              "      <td>164.2</td>\n",
              "      <td>135.6</td>\n",
              "      <td>0</td>\n",
              "      <td>0</td>\n",
              "      <td>552.40</td>\n",
              "    </tr>\n",
              "  </tbody>\n",
              "</table>\n",
              "<p>5 rows × 29 columns</p>\n",
              "</div>\n",
              "      <button class=\"colab-df-convert\" onclick=\"convertToInteractive('df-aaaf3adc-8b62-45d9-9743-71964416dccd')\"\n",
              "              title=\"Convert this dataframe to an interactive table.\"\n",
              "              style=\"display:none;\">\n",
              "        \n",
              "  <svg xmlns=\"http://www.w3.org/2000/svg\" height=\"24px\"viewBox=\"0 0 24 24\"\n",
              "       width=\"24px\">\n",
              "    <path d=\"M0 0h24v24H0V0z\" fill=\"none\"/>\n",
              "    <path d=\"M18.56 5.44l.94 2.06.94-2.06 2.06-.94-2.06-.94-.94-2.06-.94 2.06-2.06.94zm-11 1L8.5 8.5l.94-2.06 2.06-.94-2.06-.94L8.5 2.5l-.94 2.06-2.06.94zm10 10l.94 2.06.94-2.06 2.06-.94-2.06-.94-.94-2.06-.94 2.06-2.06.94z\"/><path d=\"M17.41 7.96l-1.37-1.37c-.4-.4-.92-.59-1.43-.59-.52 0-1.04.2-1.43.59L10.3 9.45l-7.72 7.72c-.78.78-.78 2.05 0 2.83L4 21.41c.39.39.9.59 1.41.59.51 0 1.02-.2 1.41-.59l7.78-7.78 2.81-2.81c.8-.78.8-2.07 0-2.86zM5.41 20L4 18.59l7.72-7.72 1.47 1.35L5.41 20z\"/>\n",
              "  </svg>\n",
              "      </button>\n",
              "      \n",
              "  <style>\n",
              "    .colab-df-container {\n",
              "      display:flex;\n",
              "      flex-wrap:wrap;\n",
              "      gap: 12px;\n",
              "    }\n",
              "\n",
              "    .colab-df-convert {\n",
              "      background-color: #E8F0FE;\n",
              "      border: none;\n",
              "      border-radius: 50%;\n",
              "      cursor: pointer;\n",
              "      display: none;\n",
              "      fill: #1967D2;\n",
              "      height: 32px;\n",
              "      padding: 0 0 0 0;\n",
              "      width: 32px;\n",
              "    }\n",
              "\n",
              "    .colab-df-convert:hover {\n",
              "      background-color: #E2EBFA;\n",
              "      box-shadow: 0px 1px 2px rgba(60, 64, 67, 0.3), 0px 1px 3px 1px rgba(60, 64, 67, 0.15);\n",
              "      fill: #174EA6;\n",
              "    }\n",
              "\n",
              "    [theme=dark] .colab-df-convert {\n",
              "      background-color: #3B4455;\n",
              "      fill: #D2E3FC;\n",
              "    }\n",
              "\n",
              "    [theme=dark] .colab-df-convert:hover {\n",
              "      background-color: #434B5C;\n",
              "      box-shadow: 0px 1px 3px 1px rgba(0, 0, 0, 0.15);\n",
              "      filter: drop-shadow(0px 1px 2px rgba(0, 0, 0, 0.3));\n",
              "      fill: #FFFFFF;\n",
              "    }\n",
              "  </style>\n",
              "\n",
              "      <script>\n",
              "        const buttonEl =\n",
              "          document.querySelector('#df-aaaf3adc-8b62-45d9-9743-71964416dccd button.colab-df-convert');\n",
              "        buttonEl.style.display =\n",
              "          google.colab.kernel.accessAllowed ? 'block' : 'none';\n",
              "\n",
              "        async function convertToInteractive(key) {\n",
              "          const element = document.querySelector('#df-aaaf3adc-8b62-45d9-9743-71964416dccd');\n",
              "          const dataTable =\n",
              "            await google.colab.kernel.invokeFunction('convertToInteractive',\n",
              "                                                     [key], {});\n",
              "          if (!dataTable) return;\n",
              "\n",
              "          const docLinkHtml = 'Like what you see? Visit the ' +\n",
              "            '<a target=\"_blank\" href=https://colab.research.google.com/notebooks/data_table.ipynb>data table notebook</a>'\n",
              "            + ' to learn more about interactive tables.';\n",
              "          element.innerHTML = '';\n",
              "          dataTable['output_type'] = 'display_data';\n",
              "          await google.colab.output.renderOutput(dataTable, element);\n",
              "          const docLink = document.createElement('div');\n",
              "          docLink.innerHTML = docLinkHtml;\n",
              "          element.appendChild(docLink);\n",
              "        }\n",
              "      </script>\n",
              "    </div>\n",
              "  </div>\n",
              "  "
            ]
          },
          "metadata": {},
          "execution_count": 144
        }
      ]
    },
    {
      "cell_type": "code",
      "source": [
        "data.info()"
      ],
      "metadata": {
        "colab": {
          "base_uri": "https://localhost:8080/"
        },
        "id": "tPJ5XvZkjF-3",
        "outputId": "63edbe35-a92f-4203-96fe-85f233d9fb11"
      },
      "execution_count": 145,
      "outputs": [
        {
          "output_type": "stream",
          "name": "stdout",
          "text": [
            "<class 'pandas.core.frame.DataFrame'>\n",
            "RangeIndex: 10478 entries, 0 to 10477\n",
            "Data columns (total 29 columns):\n",
            " #   Column     Non-Null Count  Dtype  \n",
            "---  ------     --------------  -----  \n",
            " 0   일자         10478 non-null  object \n",
            " 1   구분1        10478 non-null  object \n",
            " 2   발전소코드      10478 non-null  object \n",
            " 3   발전소용량(KW)  10478 non-null  float64\n",
            " 4   0:00       10478 non-null  float64\n",
            " 5   1:00       10478 non-null  float64\n",
            " 6   2:00       10478 non-null  object \n",
            " 7   3:00       10478 non-null  object \n",
            " 8   4:00       10478 non-null  object \n",
            " 9   5:00       10478 non-null  float64\n",
            " 10  6:00       10478 non-null  float64\n",
            " 11  7:00       10478 non-null  float64\n",
            " 12  8:00       10478 non-null  float64\n",
            " 13  9:00       10478 non-null  float64\n",
            " 14  10:00      10478 non-null  float64\n",
            " 15  11:00      10478 non-null  float64\n",
            " 16  12:00      10478 non-null  float64\n",
            " 17  13:00      10478 non-null  float64\n",
            " 18  14:00      10478 non-null  float64\n",
            " 19  15:00      10478 non-null  float64\n",
            " 20  16:00      10478 non-null  float64\n",
            " 21  17:00      10478 non-null  float64\n",
            " 22  18:00      10478 non-null  float64\n",
            " 23  19:00      10478 non-null  float64\n",
            " 24  20:00      10478 non-null  object \n",
            " 25  21:00      10478 non-null  object \n",
            " 26  22:00      10478 non-null  object \n",
            " 27  23:00      10478 non-null  object \n",
            " 28  합계         10478 non-null  float64\n",
            "dtypes: float64(19), object(10)\n",
            "memory usage: 2.3+ MB\n"
          ]
        }
      ]
    },
    {
      "cell_type": "code",
      "source": [
        "#null 값 확인\n",
        "print(data.isnull().sum())"
      ],
      "metadata": {
        "colab": {
          "base_uri": "https://localhost:8080/"
        },
        "id": "BxGA_FkGeQBx",
        "outputId": "864e9033-ed45-41c4-b4cf-46aba310b961"
      },
      "execution_count": 146,
      "outputs": [
        {
          "output_type": "stream",
          "name": "stdout",
          "text": [
            "일자           0\n",
            "구분1          0\n",
            "발전소코드        0\n",
            "발전소용량(KW)    0\n",
            "0:00         0\n",
            "1:00         0\n",
            "2:00         0\n",
            "3:00         0\n",
            "4:00         0\n",
            "5:00         0\n",
            "6:00         0\n",
            "7:00         0\n",
            "8:00         0\n",
            "9:00         0\n",
            "10:00        0\n",
            "11:00        0\n",
            "12:00        0\n",
            "13:00        0\n",
            "14:00        0\n",
            "15:00        0\n",
            "16:00        0\n",
            "17:00        0\n",
            "18:00        0\n",
            "19:00        0\n",
            "20:00        0\n",
            "21:00        0\n",
            "22:00        0\n",
            "23:00        0\n",
            "합계           0\n",
            "dtype: int64\n"
          ]
        }
      ]
    },
    {
      "cell_type": "code",
      "source": [
        "#결측값 확인\n",
        "data.isna().sum()"
      ],
      "metadata": {
        "colab": {
          "base_uri": "https://localhost:8080/"
        },
        "id": "0zJ-sno6jO3v",
        "outputId": "1118f02b-1581-4ac8-e02d-59feaf58f326"
      },
      "execution_count": 147,
      "outputs": [
        {
          "output_type": "execute_result",
          "data": {
            "text/plain": [
              "일자           0\n",
              "구분1          0\n",
              "발전소코드        0\n",
              "발전소용량(KW)    0\n",
              "0:00         0\n",
              "1:00         0\n",
              "2:00         0\n",
              "3:00         0\n",
              "4:00         0\n",
              "5:00         0\n",
              "6:00         0\n",
              "7:00         0\n",
              "8:00         0\n",
              "9:00         0\n",
              "10:00        0\n",
              "11:00        0\n",
              "12:00        0\n",
              "13:00        0\n",
              "14:00        0\n",
              "15:00        0\n",
              "16:00        0\n",
              "17:00        0\n",
              "18:00        0\n",
              "19:00        0\n",
              "20:00        0\n",
              "21:00        0\n",
              "22:00        0\n",
              "23:00        0\n",
              "합계           0\n",
              "dtype: int64"
            ]
          },
          "metadata": {},
          "execution_count": 147
        }
      ]
    },
    {
      "cell_type": "code",
      "source": [
        "#데이터 타입 확인\n",
        "print(data.dtypes)"
      ],
      "metadata": {
        "colab": {
          "base_uri": "https://localhost:8080/"
        },
        "id": "zXz5OTsGWIOi",
        "outputId": "a843da03-216f-483d-e139-428d1e99ec58"
      },
      "execution_count": 148,
      "outputs": [
        {
          "output_type": "stream",
          "name": "stdout",
          "text": [
            "일자            object\n",
            "구분1           object\n",
            "발전소코드         object\n",
            "발전소용량(KW)    float64\n",
            "0:00         float64\n",
            "1:00         float64\n",
            "2:00          object\n",
            "3:00          object\n",
            "4:00          object\n",
            "5:00         float64\n",
            "6:00         float64\n",
            "7:00         float64\n",
            "8:00         float64\n",
            "9:00         float64\n",
            "10:00        float64\n",
            "11:00        float64\n",
            "12:00        float64\n",
            "13:00        float64\n",
            "14:00        float64\n",
            "15:00        float64\n",
            "16:00        float64\n",
            "17:00        float64\n",
            "18:00        float64\n",
            "19:00        float64\n",
            "20:00         object\n",
            "21:00         object\n",
            "22:00         object\n",
            "23:00         object\n",
            "합계           float64\n",
            "dtype: object\n"
          ]
        }
      ]
    },
    {
      "cell_type": "code",
      "source": [
        "#중복된 데이터 확인\n",
        "sum(data.duplicated())"
      ],
      "metadata": {
        "colab": {
          "base_uri": "https://localhost:8080/"
        },
        "id": "jLWPeyGni0Rl",
        "outputId": "e327df76-c22d-4e8a-8a8e-bf3db14db225"
      },
      "execution_count": 149,
      "outputs": [
        {
          "output_type": "execute_result",
          "data": {
            "text/plain": [
              "0"
            ]
          },
          "metadata": {},
          "execution_count": 149
        }
      ]
    },
    {
      "cell_type": "markdown",
      "source": [
        "### 열 값 범위 확인"
      ],
      "metadata": {
        "id": "7mYHcoFfiFBN"
      }
    },
    {
      "cell_type": "code",
      "source": [
        "data['발전소코드'].unique()"
      ],
      "metadata": {
        "colab": {
          "base_uri": "https://localhost:8080/"
        },
        "id": "R8jNnTikSBwo",
        "outputId": "776e660a-410f-492e-b63f-e259245c4723"
      },
      "execution_count": 150,
      "outputs": [
        {
          "output_type": "execute_result",
          "data": {
            "text/plain": [
              "array(['G1053', 'G1018', 'G1034', 'S5004', 'S5043', 'G1039', 'S5007',\n",
              "       'S5020', 'G1022', 'S5014', 'G1019', 'S5027', 'S5017', 'G1032',\n",
              "       'S5021', 'S5024', 'S5032', 'S5002', 'S5028', 'S5038', 'S5009',\n",
              "       'S5018', 'G1066', 'S5026', 'S5030', 'G1026', 'G1025', 'G1021',\n",
              "       'G1060', 'G1030', 'S5005', 'G1017', 'S5025', 'S5033', 'G1063',\n",
              "       'S5029', 'G1059', 'S5016', 'S5015', 'S5006', 'S5010', 'G1020',\n",
              "       'S5041', 'S5047', 'S5022', 'S5019', 'S5008', 'S5040', 'S5011',\n",
              "       'S5039', 'S5046', 'G1065', 'G1023', 'S5003', 'S5023', 'G1024',\n",
              "       'G1061', 'S5042', 'S5050', 'G1051', 'G1054', 'S5001', 'G1062',\n",
              "       'S5013', 'G1055', 'G1031', 'G1028', 'G1027', 'G1029', 'G1067',\n",
              "       'G1068', 'G1064', 'G1058', 'G1057', 'G1056', 'G1052', 'G1050',\n",
              "       'S5048', 'S5049', 'G1033', 'S5012', 'S5035', 'S5031', 'S5037',\n",
              "       'S5034', 'S5045', 'S5036', 'S5044', 'B1739', 'B1737', 'B1742',\n",
              "       'B1740', 'B1738', 'B1741', 'B1788', 'B1786', 'B1787', 'B1780',\n",
              "       'B1779', 'B1781', 'B1790', 'B1734', 'B1730', 'B1777', 'B1732',\n",
              "       'B1778', 'B1789', 'B1791', 'B1795', 'B1743', 'B1793', 'B1776',\n",
              "       'B1784', 'B1785', 'B1727', 'B1794', 'B1728', 'B1783', 'B1733',\n",
              "       'B1729', 'B1731', 'B1782', 'B1792', 'B1736', 'B1735', 'N6003',\n",
              "       'N6004', 'N6005', 'N6006', 'N6007', 'N6008', 'N6009', 'N6001',\n",
              "       'N6002', 'M1201', 'M1202', 'M1203', 'M1204', 'M1205', 'M1206',\n",
              "       'M1207', 'M1208', 'V9001', 'V9002', 'V9003', 'V9004', 'V9005',\n",
              "       'V9006', 'V9007', 'V9008', 'V9009', 'V9010', 'V9011', 'V9012',\n",
              "       'V9013', 'V9014', 'V9015', 'V9016', 'V9017', 'V9018', 'V9019',\n",
              "       'V9020', 'V9021', 'V9022', 'V9023', 'V9024', 'V9025', 'V9026',\n",
              "       'V9027'], dtype=object)"
            ]
          },
          "metadata": {},
          "execution_count": 150
        }
      ]
    },
    {
      "cell_type": "code",
      "source": [
        "code_first = data['발전소코드'].str[0]\n",
        "code_first.unique()"
      ],
      "metadata": {
        "colab": {
          "base_uri": "https://localhost:8080/"
        },
        "id": "q_9FRzzPiKLA",
        "outputId": "04ab1cc1-8703-40c7-f54d-d152d301485d"
      },
      "execution_count": 151,
      "outputs": [
        {
          "output_type": "execute_result",
          "data": {
            "text/plain": [
              "array(['G', 'S', 'B', 'N', 'M', 'V'], dtype=object)"
            ]
          },
          "metadata": {},
          "execution_count": 151
        }
      ]
    },
    {
      "cell_type": "markdown",
      "source": [
        " - 'G'는 화력 발전소\n",
        " - 'S'는 태양광 발전소\n",
        " - 'B'는 바이오매스 발전소\n",
        " - 'N'은 원자력 발전소\n",
        " - 'M'은 연료전지 발전소\n",
        " - 'V'는 풍력 발전소"
      ],
      "metadata": {
        "id": "XYMQAAhLY401"
      }
    },
    {
      "cell_type": "code",
      "source": [
        "data['구분1'].unique()"
      ],
      "metadata": {
        "colab": {
          "base_uri": "https://localhost:8080/"
        },
        "id": "LZ8Am_K9SVtL",
        "outputId": "b25ae780-6f4a-4036-e74c-5de988fefc4e"
      },
      "execution_count": 152,
      "outputs": [
        {
          "output_type": "execute_result",
          "data": {
            "text/plain": [
              "array(['실측', '예측'], dtype=object)"
            ]
          },
          "metadata": {},
          "execution_count": 152
        }
      ]
    },
    {
      "cell_type": "code",
      "source": [
        "min_size = min(data['발전소용량(KW)'])\n",
        "max_size = max(data['발전소용량(KW)'])\n",
        "\n",
        "print(min_size, max_size)"
      ],
      "metadata": {
        "colab": {
          "base_uri": "https://localhost:8080/"
        },
        "id": "3EG37IMgTCqh",
        "outputId": "b61102e9-b846-46a6-dd28-90dce0263f09"
      },
      "execution_count": 153,
      "outputs": [
        {
          "output_type": "stream",
          "name": "stdout",
          "text": [
            "98.825 5587.56\n"
          ]
        }
      ]
    },
    {
      "cell_type": "code",
      "source": [
        "min_size = min(data['합계'])\n",
        "max_size = max(data['합계'])\n",
        "\n",
        "print(min_size, max_size)\n",
        "\n",
        "average_total = data['합계'].mean()\n",
        "print(\"평균값:\", average_total)"
      ],
      "metadata": {
        "colab": {
          "base_uri": "https://localhost:8080/"
        },
        "id": "6Yxyawp7HsA3",
        "outputId": "0b897abc-d0a7-4844-d08a-ebac13226b43"
      },
      "execution_count": 154,
      "outputs": [
        {
          "output_type": "stream",
          "name": "stdout",
          "text": [
            "49.2 57533.93\n",
            "평균값: 5041.149679328117\n"
          ]
        }
      ]
    },
    {
      "cell_type": "markdown",
      "source": [
        "### 예측 데이터와 실측 데이터 분리"
      ],
      "metadata": {
        "id": "NWCiNXAoiVSk"
      }
    },
    {
      "cell_type": "code",
      "source": [
        "real_data = data.iloc[::2]\n",
        "predic_data = data.iloc[1::2]"
      ],
      "metadata": {
        "id": "va-SW68uT4Ho"
      },
      "execution_count": 155,
      "outputs": []
    },
    {
      "cell_type": "code",
      "source": [
        "real_data.head()"
      ],
      "metadata": {
        "colab": {
          "base_uri": "https://localhost:8080/",
          "height": 235
        },
        "id": "17JeSKPIUfX7",
        "outputId": "780376dd-c455-4305-c384-d64c73e8b264"
      },
      "execution_count": 156,
      "outputs": [
        {
          "output_type": "execute_result",
          "data": {
            "text/plain": [
              "           일자 구분1  발전소코드  발전소용량(KW)  0:00  1:00 2:00 3:00 4:00  5:00  ...  \\\n",
              "0  2023-03-01  실측  G1053     249.48   0.0   0.0    0    0    0   0.0  ...   \n",
              "2  2023-03-01  실측  G1018     288.00   0.0   0.0    0    0    0   0.0  ...   \n",
              "4  2023-03-01  실측  G1034     298.08  12.4   0.0    0    0    0   0.0  ...   \n",
              "6  2023-03-01  실측  S5004     300.80   0.0   0.0    0    0    0   0.0  ...   \n",
              "8  2023-03-01  실측  S5043     320.76   0.0   0.0    0    0    0   0.0  ...   \n",
              "\n",
              "    15:00   16:00   17:00   18:00  19:00  20:00  21:00  22:00  23:00       합계  \n",
              "0    0.10   65.80   33.60  133.70  161.1  150.5      0      0      0   640.90  \n",
              "2  101.26   53.50   29.09    2.21    0.0      0      0      0      0   787.25  \n",
              "4   18.60   63.80   28.80    0.60    0.0  164.2  135.6      0      0   552.40  \n",
              "6  100.80   28.18   22.52    3.54    0.0      0      0      0      0   575.38  \n",
              "8  202.84  240.25  236.49  195.64  192.6  42.67      0      0      0  1951.65  \n",
              "\n",
              "[5 rows x 29 columns]"
            ],
            "text/html": [
              "\n",
              "  <div id=\"df-ee8afd8e-36ed-4036-bd01-008a6b14934b\">\n",
              "    <div class=\"colab-df-container\">\n",
              "      <div>\n",
              "<style scoped>\n",
              "    .dataframe tbody tr th:only-of-type {\n",
              "        vertical-align: middle;\n",
              "    }\n",
              "\n",
              "    .dataframe tbody tr th {\n",
              "        vertical-align: top;\n",
              "    }\n",
              "\n",
              "    .dataframe thead th {\n",
              "        text-align: right;\n",
              "    }\n",
              "</style>\n",
              "<table border=\"1\" class=\"dataframe\">\n",
              "  <thead>\n",
              "    <tr style=\"text-align: right;\">\n",
              "      <th></th>\n",
              "      <th>일자</th>\n",
              "      <th>구분1</th>\n",
              "      <th>발전소코드</th>\n",
              "      <th>발전소용량(KW)</th>\n",
              "      <th>0:00</th>\n",
              "      <th>1:00</th>\n",
              "      <th>2:00</th>\n",
              "      <th>3:00</th>\n",
              "      <th>4:00</th>\n",
              "      <th>5:00</th>\n",
              "      <th>...</th>\n",
              "      <th>15:00</th>\n",
              "      <th>16:00</th>\n",
              "      <th>17:00</th>\n",
              "      <th>18:00</th>\n",
              "      <th>19:00</th>\n",
              "      <th>20:00</th>\n",
              "      <th>21:00</th>\n",
              "      <th>22:00</th>\n",
              "      <th>23:00</th>\n",
              "      <th>합계</th>\n",
              "    </tr>\n",
              "  </thead>\n",
              "  <tbody>\n",
              "    <tr>\n",
              "      <th>0</th>\n",
              "      <td>2023-03-01</td>\n",
              "      <td>실측</td>\n",
              "      <td>G1053</td>\n",
              "      <td>249.48</td>\n",
              "      <td>0.0</td>\n",
              "      <td>0.0</td>\n",
              "      <td>0</td>\n",
              "      <td>0</td>\n",
              "      <td>0</td>\n",
              "      <td>0.0</td>\n",
              "      <td>...</td>\n",
              "      <td>0.10</td>\n",
              "      <td>65.80</td>\n",
              "      <td>33.60</td>\n",
              "      <td>133.70</td>\n",
              "      <td>161.1</td>\n",
              "      <td>150.5</td>\n",
              "      <td>0</td>\n",
              "      <td>0</td>\n",
              "      <td>0</td>\n",
              "      <td>640.90</td>\n",
              "    </tr>\n",
              "    <tr>\n",
              "      <th>2</th>\n",
              "      <td>2023-03-01</td>\n",
              "      <td>실측</td>\n",
              "      <td>G1018</td>\n",
              "      <td>288.00</td>\n",
              "      <td>0.0</td>\n",
              "      <td>0.0</td>\n",
              "      <td>0</td>\n",
              "      <td>0</td>\n",
              "      <td>0</td>\n",
              "      <td>0.0</td>\n",
              "      <td>...</td>\n",
              "      <td>101.26</td>\n",
              "      <td>53.50</td>\n",
              "      <td>29.09</td>\n",
              "      <td>2.21</td>\n",
              "      <td>0.0</td>\n",
              "      <td>0</td>\n",
              "      <td>0</td>\n",
              "      <td>0</td>\n",
              "      <td>0</td>\n",
              "      <td>787.25</td>\n",
              "    </tr>\n",
              "    <tr>\n",
              "      <th>4</th>\n",
              "      <td>2023-03-01</td>\n",
              "      <td>실측</td>\n",
              "      <td>G1034</td>\n",
              "      <td>298.08</td>\n",
              "      <td>12.4</td>\n",
              "      <td>0.0</td>\n",
              "      <td>0</td>\n",
              "      <td>0</td>\n",
              "      <td>0</td>\n",
              "      <td>0.0</td>\n",
              "      <td>...</td>\n",
              "      <td>18.60</td>\n",
              "      <td>63.80</td>\n",
              "      <td>28.80</td>\n",
              "      <td>0.60</td>\n",
              "      <td>0.0</td>\n",
              "      <td>164.2</td>\n",
              "      <td>135.6</td>\n",
              "      <td>0</td>\n",
              "      <td>0</td>\n",
              "      <td>552.40</td>\n",
              "    </tr>\n",
              "    <tr>\n",
              "      <th>6</th>\n",
              "      <td>2023-03-01</td>\n",
              "      <td>실측</td>\n",
              "      <td>S5004</td>\n",
              "      <td>300.80</td>\n",
              "      <td>0.0</td>\n",
              "      <td>0.0</td>\n",
              "      <td>0</td>\n",
              "      <td>0</td>\n",
              "      <td>0</td>\n",
              "      <td>0.0</td>\n",
              "      <td>...</td>\n",
              "      <td>100.80</td>\n",
              "      <td>28.18</td>\n",
              "      <td>22.52</td>\n",
              "      <td>3.54</td>\n",
              "      <td>0.0</td>\n",
              "      <td>0</td>\n",
              "      <td>0</td>\n",
              "      <td>0</td>\n",
              "      <td>0</td>\n",
              "      <td>575.38</td>\n",
              "    </tr>\n",
              "    <tr>\n",
              "      <th>8</th>\n",
              "      <td>2023-03-01</td>\n",
              "      <td>실측</td>\n",
              "      <td>S5043</td>\n",
              "      <td>320.76</td>\n",
              "      <td>0.0</td>\n",
              "      <td>0.0</td>\n",
              "      <td>0</td>\n",
              "      <td>0</td>\n",
              "      <td>0</td>\n",
              "      <td>0.0</td>\n",
              "      <td>...</td>\n",
              "      <td>202.84</td>\n",
              "      <td>240.25</td>\n",
              "      <td>236.49</td>\n",
              "      <td>195.64</td>\n",
              "      <td>192.6</td>\n",
              "      <td>42.67</td>\n",
              "      <td>0</td>\n",
              "      <td>0</td>\n",
              "      <td>0</td>\n",
              "      <td>1951.65</td>\n",
              "    </tr>\n",
              "  </tbody>\n",
              "</table>\n",
              "<p>5 rows × 29 columns</p>\n",
              "</div>\n",
              "      <button class=\"colab-df-convert\" onclick=\"convertToInteractive('df-ee8afd8e-36ed-4036-bd01-008a6b14934b')\"\n",
              "              title=\"Convert this dataframe to an interactive table.\"\n",
              "              style=\"display:none;\">\n",
              "        \n",
              "  <svg xmlns=\"http://www.w3.org/2000/svg\" height=\"24px\"viewBox=\"0 0 24 24\"\n",
              "       width=\"24px\">\n",
              "    <path d=\"M0 0h24v24H0V0z\" fill=\"none\"/>\n",
              "    <path d=\"M18.56 5.44l.94 2.06.94-2.06 2.06-.94-2.06-.94-.94-2.06-.94 2.06-2.06.94zm-11 1L8.5 8.5l.94-2.06 2.06-.94-2.06-.94L8.5 2.5l-.94 2.06-2.06.94zm10 10l.94 2.06.94-2.06 2.06-.94-2.06-.94-.94-2.06-.94 2.06-2.06.94z\"/><path d=\"M17.41 7.96l-1.37-1.37c-.4-.4-.92-.59-1.43-.59-.52 0-1.04.2-1.43.59L10.3 9.45l-7.72 7.72c-.78.78-.78 2.05 0 2.83L4 21.41c.39.39.9.59 1.41.59.51 0 1.02-.2 1.41-.59l7.78-7.78 2.81-2.81c.8-.78.8-2.07 0-2.86zM5.41 20L4 18.59l7.72-7.72 1.47 1.35L5.41 20z\"/>\n",
              "  </svg>\n",
              "      </button>\n",
              "      \n",
              "  <style>\n",
              "    .colab-df-container {\n",
              "      display:flex;\n",
              "      flex-wrap:wrap;\n",
              "      gap: 12px;\n",
              "    }\n",
              "\n",
              "    .colab-df-convert {\n",
              "      background-color: #E8F0FE;\n",
              "      border: none;\n",
              "      border-radius: 50%;\n",
              "      cursor: pointer;\n",
              "      display: none;\n",
              "      fill: #1967D2;\n",
              "      height: 32px;\n",
              "      padding: 0 0 0 0;\n",
              "      width: 32px;\n",
              "    }\n",
              "\n",
              "    .colab-df-convert:hover {\n",
              "      background-color: #E2EBFA;\n",
              "      box-shadow: 0px 1px 2px rgba(60, 64, 67, 0.3), 0px 1px 3px 1px rgba(60, 64, 67, 0.15);\n",
              "      fill: #174EA6;\n",
              "    }\n",
              "\n",
              "    [theme=dark] .colab-df-convert {\n",
              "      background-color: #3B4455;\n",
              "      fill: #D2E3FC;\n",
              "    }\n",
              "\n",
              "    [theme=dark] .colab-df-convert:hover {\n",
              "      background-color: #434B5C;\n",
              "      box-shadow: 0px 1px 3px 1px rgba(0, 0, 0, 0.15);\n",
              "      filter: drop-shadow(0px 1px 2px rgba(0, 0, 0, 0.3));\n",
              "      fill: #FFFFFF;\n",
              "    }\n",
              "  </style>\n",
              "\n",
              "      <script>\n",
              "        const buttonEl =\n",
              "          document.querySelector('#df-ee8afd8e-36ed-4036-bd01-008a6b14934b button.colab-df-convert');\n",
              "        buttonEl.style.display =\n",
              "          google.colab.kernel.accessAllowed ? 'block' : 'none';\n",
              "\n",
              "        async function convertToInteractive(key) {\n",
              "          const element = document.querySelector('#df-ee8afd8e-36ed-4036-bd01-008a6b14934b');\n",
              "          const dataTable =\n",
              "            await google.colab.kernel.invokeFunction('convertToInteractive',\n",
              "                                                     [key], {});\n",
              "          if (!dataTable) return;\n",
              "\n",
              "          const docLinkHtml = 'Like what you see? Visit the ' +\n",
              "            '<a target=\"_blank\" href=https://colab.research.google.com/notebooks/data_table.ipynb>data table notebook</a>'\n",
              "            + ' to learn more about interactive tables.';\n",
              "          element.innerHTML = '';\n",
              "          dataTable['output_type'] = 'display_data';\n",
              "          await google.colab.output.renderOutput(dataTable, element);\n",
              "          const docLink = document.createElement('div');\n",
              "          docLink.innerHTML = docLinkHtml;\n",
              "          element.appendChild(docLink);\n",
              "        }\n",
              "      </script>\n",
              "    </div>\n",
              "  </div>\n",
              "  "
            ]
          },
          "metadata": {},
          "execution_count": 156
        }
      ]
    },
    {
      "cell_type": "code",
      "source": [
        "predic_data.head()"
      ],
      "metadata": {
        "colab": {
          "base_uri": "https://localhost:8080/",
          "height": 235
        },
        "id": "ajdv1S_FUgwQ",
        "outputId": "cc8760fa-d439-475a-a2fc-c8a6c089a9f8"
      },
      "execution_count": 157,
      "outputs": [
        {
          "output_type": "execute_result",
          "data": {
            "text/plain": [
              "           일자 구분1  발전소코드  발전소용량(KW)  0:00  1:00  2:00  3:00  4:00  5:00  ...  \\\n",
              "1  2023-03-01  예측  G1053     249.48  0.95  0.97  0.94  0.97  0.96  0.95  ...   \n",
              "3  2023-03-01  예측  G1018     288.00  0.00  0.00     0     0     0  0.00  ...   \n",
              "5  2023-03-01  예측  G1034     298.08  0.85  0.86  0.85  0.86  0.85  0.86  ...   \n",
              "7  2023-03-01  예측  S5004     300.80  0.00  0.00     0     0     0  0.00  ...   \n",
              "9  2023-03-01  예측  S5043     320.76  5.40  5.24  5.03  5.05  5.09  4.87  ...   \n",
              "\n",
              "    15:00   16:00   17:00   18:00   19:00   20:00  21:00  22:00  23:00  \\\n",
              "1   20.08   93.61   35.62  161.20  161.20   161.2  46.95   0.89   0.98   \n",
              "3   93.33   30.84   27.05    1.43    0.00       0      0      0      0   \n",
              "5   89.61   66.66   25.73    1.62    0.88   172.6  172.6   83.4   1.57   \n",
              "7  124.39   81.26   17.75    1.33    0.00       0      0      0      0   \n",
              "9  199.96  131.53  190.43  190.43  190.43  133.29   4.15    4.9   5.16   \n",
              "\n",
              "        합계  \n",
              "1   739.26  \n",
              "3   618.75  \n",
              "5   685.61  \n",
              "7   758.24  \n",
              "9  1170.54  \n",
              "\n",
              "[5 rows x 29 columns]"
            ],
            "text/html": [
              "\n",
              "  <div id=\"df-0230f658-65f4-4a60-bfef-17ea221f3632\">\n",
              "    <div class=\"colab-df-container\">\n",
              "      <div>\n",
              "<style scoped>\n",
              "    .dataframe tbody tr th:only-of-type {\n",
              "        vertical-align: middle;\n",
              "    }\n",
              "\n",
              "    .dataframe tbody tr th {\n",
              "        vertical-align: top;\n",
              "    }\n",
              "\n",
              "    .dataframe thead th {\n",
              "        text-align: right;\n",
              "    }\n",
              "</style>\n",
              "<table border=\"1\" class=\"dataframe\">\n",
              "  <thead>\n",
              "    <tr style=\"text-align: right;\">\n",
              "      <th></th>\n",
              "      <th>일자</th>\n",
              "      <th>구분1</th>\n",
              "      <th>발전소코드</th>\n",
              "      <th>발전소용량(KW)</th>\n",
              "      <th>0:00</th>\n",
              "      <th>1:00</th>\n",
              "      <th>2:00</th>\n",
              "      <th>3:00</th>\n",
              "      <th>4:00</th>\n",
              "      <th>5:00</th>\n",
              "      <th>...</th>\n",
              "      <th>15:00</th>\n",
              "      <th>16:00</th>\n",
              "      <th>17:00</th>\n",
              "      <th>18:00</th>\n",
              "      <th>19:00</th>\n",
              "      <th>20:00</th>\n",
              "      <th>21:00</th>\n",
              "      <th>22:00</th>\n",
              "      <th>23:00</th>\n",
              "      <th>합계</th>\n",
              "    </tr>\n",
              "  </thead>\n",
              "  <tbody>\n",
              "    <tr>\n",
              "      <th>1</th>\n",
              "      <td>2023-03-01</td>\n",
              "      <td>예측</td>\n",
              "      <td>G1053</td>\n",
              "      <td>249.48</td>\n",
              "      <td>0.95</td>\n",
              "      <td>0.97</td>\n",
              "      <td>0.94</td>\n",
              "      <td>0.97</td>\n",
              "      <td>0.96</td>\n",
              "      <td>0.95</td>\n",
              "      <td>...</td>\n",
              "      <td>20.08</td>\n",
              "      <td>93.61</td>\n",
              "      <td>35.62</td>\n",
              "      <td>161.20</td>\n",
              "      <td>161.20</td>\n",
              "      <td>161.2</td>\n",
              "      <td>46.95</td>\n",
              "      <td>0.89</td>\n",
              "      <td>0.98</td>\n",
              "      <td>739.26</td>\n",
              "    </tr>\n",
              "    <tr>\n",
              "      <th>3</th>\n",
              "      <td>2023-03-01</td>\n",
              "      <td>예측</td>\n",
              "      <td>G1018</td>\n",
              "      <td>288.00</td>\n",
              "      <td>0.00</td>\n",
              "      <td>0.00</td>\n",
              "      <td>0</td>\n",
              "      <td>0</td>\n",
              "      <td>0</td>\n",
              "      <td>0.00</td>\n",
              "      <td>...</td>\n",
              "      <td>93.33</td>\n",
              "      <td>30.84</td>\n",
              "      <td>27.05</td>\n",
              "      <td>1.43</td>\n",
              "      <td>0.00</td>\n",
              "      <td>0</td>\n",
              "      <td>0</td>\n",
              "      <td>0</td>\n",
              "      <td>0</td>\n",
              "      <td>618.75</td>\n",
              "    </tr>\n",
              "    <tr>\n",
              "      <th>5</th>\n",
              "      <td>2023-03-01</td>\n",
              "      <td>예측</td>\n",
              "      <td>G1034</td>\n",
              "      <td>298.08</td>\n",
              "      <td>0.85</td>\n",
              "      <td>0.86</td>\n",
              "      <td>0.85</td>\n",
              "      <td>0.86</td>\n",
              "      <td>0.85</td>\n",
              "      <td>0.86</td>\n",
              "      <td>...</td>\n",
              "      <td>89.61</td>\n",
              "      <td>66.66</td>\n",
              "      <td>25.73</td>\n",
              "      <td>1.62</td>\n",
              "      <td>0.88</td>\n",
              "      <td>172.6</td>\n",
              "      <td>172.6</td>\n",
              "      <td>83.4</td>\n",
              "      <td>1.57</td>\n",
              "      <td>685.61</td>\n",
              "    </tr>\n",
              "    <tr>\n",
              "      <th>7</th>\n",
              "      <td>2023-03-01</td>\n",
              "      <td>예측</td>\n",
              "      <td>S5004</td>\n",
              "      <td>300.80</td>\n",
              "      <td>0.00</td>\n",
              "      <td>0.00</td>\n",
              "      <td>0</td>\n",
              "      <td>0</td>\n",
              "      <td>0</td>\n",
              "      <td>0.00</td>\n",
              "      <td>...</td>\n",
              "      <td>124.39</td>\n",
              "      <td>81.26</td>\n",
              "      <td>17.75</td>\n",
              "      <td>1.33</td>\n",
              "      <td>0.00</td>\n",
              "      <td>0</td>\n",
              "      <td>0</td>\n",
              "      <td>0</td>\n",
              "      <td>0</td>\n",
              "      <td>758.24</td>\n",
              "    </tr>\n",
              "    <tr>\n",
              "      <th>9</th>\n",
              "      <td>2023-03-01</td>\n",
              "      <td>예측</td>\n",
              "      <td>S5043</td>\n",
              "      <td>320.76</td>\n",
              "      <td>5.40</td>\n",
              "      <td>5.24</td>\n",
              "      <td>5.03</td>\n",
              "      <td>5.05</td>\n",
              "      <td>5.09</td>\n",
              "      <td>4.87</td>\n",
              "      <td>...</td>\n",
              "      <td>199.96</td>\n",
              "      <td>131.53</td>\n",
              "      <td>190.43</td>\n",
              "      <td>190.43</td>\n",
              "      <td>190.43</td>\n",
              "      <td>133.29</td>\n",
              "      <td>4.15</td>\n",
              "      <td>4.9</td>\n",
              "      <td>5.16</td>\n",
              "      <td>1170.54</td>\n",
              "    </tr>\n",
              "  </tbody>\n",
              "</table>\n",
              "<p>5 rows × 29 columns</p>\n",
              "</div>\n",
              "      <button class=\"colab-df-convert\" onclick=\"convertToInteractive('df-0230f658-65f4-4a60-bfef-17ea221f3632')\"\n",
              "              title=\"Convert this dataframe to an interactive table.\"\n",
              "              style=\"display:none;\">\n",
              "        \n",
              "  <svg xmlns=\"http://www.w3.org/2000/svg\" height=\"24px\"viewBox=\"0 0 24 24\"\n",
              "       width=\"24px\">\n",
              "    <path d=\"M0 0h24v24H0V0z\" fill=\"none\"/>\n",
              "    <path d=\"M18.56 5.44l.94 2.06.94-2.06 2.06-.94-2.06-.94-.94-2.06-.94 2.06-2.06.94zm-11 1L8.5 8.5l.94-2.06 2.06-.94-2.06-.94L8.5 2.5l-.94 2.06-2.06.94zm10 10l.94 2.06.94-2.06 2.06-.94-2.06-.94-.94-2.06-.94 2.06-2.06.94z\"/><path d=\"M17.41 7.96l-1.37-1.37c-.4-.4-.92-.59-1.43-.59-.52 0-1.04.2-1.43.59L10.3 9.45l-7.72 7.72c-.78.78-.78 2.05 0 2.83L4 21.41c.39.39.9.59 1.41.59.51 0 1.02-.2 1.41-.59l7.78-7.78 2.81-2.81c.8-.78.8-2.07 0-2.86zM5.41 20L4 18.59l7.72-7.72 1.47 1.35L5.41 20z\"/>\n",
              "  </svg>\n",
              "      </button>\n",
              "      \n",
              "  <style>\n",
              "    .colab-df-container {\n",
              "      display:flex;\n",
              "      flex-wrap:wrap;\n",
              "      gap: 12px;\n",
              "    }\n",
              "\n",
              "    .colab-df-convert {\n",
              "      background-color: #E8F0FE;\n",
              "      border: none;\n",
              "      border-radius: 50%;\n",
              "      cursor: pointer;\n",
              "      display: none;\n",
              "      fill: #1967D2;\n",
              "      height: 32px;\n",
              "      padding: 0 0 0 0;\n",
              "      width: 32px;\n",
              "    }\n",
              "\n",
              "    .colab-df-convert:hover {\n",
              "      background-color: #E2EBFA;\n",
              "      box-shadow: 0px 1px 2px rgba(60, 64, 67, 0.3), 0px 1px 3px 1px rgba(60, 64, 67, 0.15);\n",
              "      fill: #174EA6;\n",
              "    }\n",
              "\n",
              "    [theme=dark] .colab-df-convert {\n",
              "      background-color: #3B4455;\n",
              "      fill: #D2E3FC;\n",
              "    }\n",
              "\n",
              "    [theme=dark] .colab-df-convert:hover {\n",
              "      background-color: #434B5C;\n",
              "      box-shadow: 0px 1px 3px 1px rgba(0, 0, 0, 0.15);\n",
              "      filter: drop-shadow(0px 1px 2px rgba(0, 0, 0, 0.3));\n",
              "      fill: #FFFFFF;\n",
              "    }\n",
              "  </style>\n",
              "\n",
              "      <script>\n",
              "        const buttonEl =\n",
              "          document.querySelector('#df-0230f658-65f4-4a60-bfef-17ea221f3632 button.colab-df-convert');\n",
              "        buttonEl.style.display =\n",
              "          google.colab.kernel.accessAllowed ? 'block' : 'none';\n",
              "\n",
              "        async function convertToInteractive(key) {\n",
              "          const element = document.querySelector('#df-0230f658-65f4-4a60-bfef-17ea221f3632');\n",
              "          const dataTable =\n",
              "            await google.colab.kernel.invokeFunction('convertToInteractive',\n",
              "                                                     [key], {});\n",
              "          if (!dataTable) return;\n",
              "\n",
              "          const docLinkHtml = 'Like what you see? Visit the ' +\n",
              "            '<a target=\"_blank\" href=https://colab.research.google.com/notebooks/data_table.ipynb>data table notebook</a>'\n",
              "            + ' to learn more about interactive tables.';\n",
              "          element.innerHTML = '';\n",
              "          dataTable['output_type'] = 'display_data';\n",
              "          await google.colab.output.renderOutput(dataTable, element);\n",
              "          const docLink = document.createElement('div');\n",
              "          docLink.innerHTML = docLinkHtml;\n",
              "          element.appendChild(docLink);\n",
              "        }\n",
              "      </script>\n",
              "    </div>\n",
              "  </div>\n",
              "  "
            ]
          },
          "metadata": {},
          "execution_count": 157
        }
      ]
    },
    {
      "cell_type": "markdown",
      "source": [
        "### 데이터 타입 변환"
      ],
      "metadata": {
        "id": "gjq49BDFieOn"
      }
    },
    {
      "cell_type": "code",
      "source": [
        "data['일자'] = pd.to_datetime(data['일자'])"
      ],
      "metadata": {
        "id": "wkdhsiriUiP-"
      },
      "execution_count": 158,
      "outputs": []
    },
    {
      "cell_type": "code",
      "source": [
        "for col in data.columns:\n",
        "    if data[col].dtype == 'object':\n",
        "      if col != '구분1' and col != '발전소코드':\n",
        "        data[col] = pd.to_numeric(data[col], errors='coerce')"
      ],
      "metadata": {
        "id": "1Dk0ktLmWrez"
      },
      "execution_count": 159,
      "outputs": []
    },
    {
      "cell_type": "code",
      "source": [
        "data.dtypes"
      ],
      "metadata": {
        "colab": {
          "base_uri": "https://localhost:8080/"
        },
        "id": "pF8AwZNYXAz7",
        "outputId": "f59e0469-00ec-4c44-e8c7-c731476e1798"
      },
      "execution_count": 160,
      "outputs": [
        {
          "output_type": "execute_result",
          "data": {
            "text/plain": [
              "일자           datetime64[ns]\n",
              "구분1                  object\n",
              "발전소코드                object\n",
              "발전소용량(KW)           float64\n",
              "0:00                float64\n",
              "1:00                float64\n",
              "2:00                float64\n",
              "3:00                float64\n",
              "4:00                float64\n",
              "5:00                float64\n",
              "6:00                float64\n",
              "7:00                float64\n",
              "8:00                float64\n",
              "9:00                float64\n",
              "10:00               float64\n",
              "11:00               float64\n",
              "12:00               float64\n",
              "13:00               float64\n",
              "14:00               float64\n",
              "15:00               float64\n",
              "16:00               float64\n",
              "17:00               float64\n",
              "18:00               float64\n",
              "19:00               float64\n",
              "20:00               float64\n",
              "21:00               float64\n",
              "22:00               float64\n",
              "23:00               float64\n",
              "합계                  float64\n",
              "dtype: object"
            ]
          },
          "metadata": {},
          "execution_count": 160
        }
      ]
    },
    {
      "cell_type": "code",
      "source": [
        "data.isna().sum()"
      ],
      "metadata": {
        "colab": {
          "base_uri": "https://localhost:8080/"
        },
        "id": "msZEuut1luv6",
        "outputId": "bc022177-7cd7-45f3-8a81-74d85f2dd173"
      },
      "execution_count": 161,
      "outputs": [
        {
          "output_type": "execute_result",
          "data": {
            "text/plain": [
              "일자           0\n",
              "구분1          0\n",
              "발전소코드        0\n",
              "발전소용량(KW)    0\n",
              "0:00         0\n",
              "1:00         0\n",
              "2:00         1\n",
              "3:00         2\n",
              "4:00         1\n",
              "5:00         0\n",
              "6:00         0\n",
              "7:00         0\n",
              "8:00         0\n",
              "9:00         0\n",
              "10:00        0\n",
              "11:00        0\n",
              "12:00        0\n",
              "13:00        0\n",
              "14:00        0\n",
              "15:00        0\n",
              "16:00        0\n",
              "17:00        0\n",
              "18:00        0\n",
              "19:00        0\n",
              "20:00        1\n",
              "21:00        2\n",
              "22:00        1\n",
              "23:00        1\n",
              "합계           0\n",
              "dtype: int64"
            ]
          },
          "metadata": {},
          "execution_count": 161
        }
      ]
    },
    {
      "cell_type": "code",
      "source": [
        "#rows_to_delete = []\n",
        "#for index, row in data.iterrows():\n",
        "#   if row.isnull().any():\n",
        "#        if row['구분1'] == '실측':\n",
        "#            rows_to_delete.extend([index, index + 1])\n",
        "#        elif row['구분1'] == '예측':\n",
        "#            rows_to_delete.extend([index - 1, index])\n",
        "\n",
        "#df_cleaned = data.drop(rows_to_delete)\n",
        "\n",
        "#print(df_cleaned)"
      ],
      "metadata": {
        "id": "PpzGinEsl4lr"
      },
      "execution_count": 162,
      "outputs": []
    },
    {
      "cell_type": "markdown",
      "source": [
        "결측값을 가진 데이터 행을 삭제시킴으로써 9개의 행이 사라짐"
      ],
      "metadata": {
        "id": "LZShFHLbm93Q"
      }
    },
    {
      "cell_type": "markdown",
      "source": [
        "### 각 시간별 데이터"
      ],
      "metadata": {
        "id": "6Y4oPyp8ilIH"
      }
    },
    {
      "cell_type": "code",
      "source": [
        "time_names = [f\"{i}:00\" for i in range(24)]\n",
        "\n",
        "time_means = []\n",
        "for col in time_names:\n",
        "    if col in data.columns:\n",
        "        time_means.append(data[col].mean())\n",
        "    else:\n",
        "        time_means.append(None)\n",
        "\n",
        "for col, col_mean in zip(time_names, time_means):\n",
        "    print(f\"time {col}: Mean = {col_mean}\")"
      ],
      "metadata": {
        "colab": {
          "base_uri": "https://localhost:8080/"
        },
        "id": "_C-sk-edXEDV",
        "outputId": "12cf31d7-0aaa-4be5-bba2-3d3a492cba5b"
      },
      "execution_count": 163,
      "outputs": [
        {
          "output_type": "stream",
          "name": "stdout",
          "text": [
            "time 0:00: Mean = 5.535597442259973\n",
            "time 1:00: Mean = 3.8478946363809885\n",
            "time 2:00: Mean = 1.7839247876300468\n",
            "time 3:00: Mean = 1.4298224513172966\n",
            "time 4:00: Mean = 1.4120607044001146\n",
            "time 5:00: Mean = 1.3956155754915058\n",
            "time 6:00: Mean = 3.0692231341859135\n",
            "time 7:00: Mean = 60.7091658713495\n",
            "time 8:00: Mean = 230.75691353311706\n",
            "time 9:00: Mean = 433.8397766749379\n",
            "time 10:00: Mean = 313.12604695552585\n",
            "time 11:00: Mean = 350.99882420309217\n",
            "time 12:00: Mean = 374.8751355220462\n",
            "time 13:00: Mean = 401.33859706050777\n",
            "time 14:00: Mean = 520.1749933193357\n",
            "time 15:00: Mean = 478.6058484443596\n",
            "time 16:00: Mean = 334.0190332124451\n",
            "time 17:00: Mean = 291.7138242030922\n",
            "time 18:00: Mean = 267.84938919641155\n",
            "time 19:00: Mean = 266.22490837946174\n",
            "time 20:00: Mean = 299.4336012217238\n",
            "time 21:00: Mean = 243.33494081710575\n",
            "time 22:00: Mean = 114.37719289873056\n",
            "time 23:00: Mean = 41.38875536890331\n"
          ]
        }
      ]
    },
    {
      "cell_type": "code",
      "source": [
        "start = min(data['일자'])\n",
        "end = max(data['일자'])\n",
        "\n",
        "print(start, end)"
      ],
      "metadata": {
        "colab": {
          "base_uri": "https://localhost:8080/"
        },
        "id": "6YGrPOSKXSP1",
        "outputId": "8c55582f-11d0-4b60-9932-2c604ba1ec2d"
      },
      "execution_count": 164,
      "outputs": [
        {
          "output_type": "stream",
          "name": "stdout",
          "text": [
            "2023-03-01 00:00:00 2023-03-31 00:00:00\n"
          ]
        }
      ]
    },
    {
      "cell_type": "markdown",
      "source": [
        "##EDA"
      ],
      "metadata": {
        "id": "swOk3l93n4Qa"
      }
    },
    {
      "cell_type": "code",
      "source": [
        "import matplotlib.pyplot as plt"
      ],
      "metadata": {
        "id": "sjaQR5-YoJwi"
      },
      "execution_count": 165,
      "outputs": []
    },
    {
      "cell_type": "code",
      "source": [
        "plt.scatter(data['발전소코드'].str[0], data['발전소용량(KW)'], alpha=0.1)"
      ],
      "metadata": {
        "id": "wp_5TgYYiSt1",
        "colab": {
          "base_uri": "https://localhost:8080/",
          "height": 448
        },
        "outputId": "0f912662-a75a-4372-80b2-ae735bec6c43"
      },
      "execution_count": 166,
      "outputs": [
        {
          "output_type": "execute_result",
          "data": {
            "text/plain": [
              "<matplotlib.collections.PathCollection at 0x7fd1c2a9da50>"
            ]
          },
          "metadata": {},
          "execution_count": 166
        },
        {
          "output_type": "display_data",
          "data": {
            "text/plain": [
              "<Figure size 640x480 with 1 Axes>"
            ],
            "image/png": "[encoded data removed]"
          },
          "metadata": {}
        }
      ]
    },
    {
      "cell_type": "code",
      "source": [
        "plt.scatter(data['발전소코드'].str[0], data['합계'], alpha= 0.1)"
      ],
      "metadata": {
        "colab": {
          "base_uri": "https://localhost:8080/",
          "height": 451
        },
        "id": "dh1gcOInoFv4",
        "outputId": "0cc0bbd9-9575-4bad-f7b2-83d91ec8eaea"
      },
      "execution_count": 167,
      "outputs": [
        {
          "output_type": "execute_result",
          "data": {
            "text/plain": [
              "<matplotlib.collections.PathCollection at 0x7fd1c27b6fb0>"
            ]
          },
          "metadata": {},
          "execution_count": 167
        },
        {
          "output_type": "display_data",
          "data": {
            "text/plain": [
              "<Figure size 640x480 with 1 Axes>"
            ],
            "image/png": "[encoded data removed]"
          },
          "metadata": {}
        }
      ]
    },
    {
      "cell_type": "code",
      "source": [
        "plt.hist(data['합계'])"
      ],
      "metadata": {
        "colab": {
          "base_uri": "https://localhost:8080/",
          "height": 539
        },
        "id": "nMdKEEYEpppJ",
        "outputId": "e2ced6fc-fa89-4ca9-bc1c-449e304e539c"
      },
      "execution_count": 168,
      "outputs": [
        {
          "output_type": "execute_result",
          "data": {
            "text/plain": [
              "(array([8.045e+03, 1.169e+03, 1.012e+03, 1.910e+02, 2.600e+01, 3.100e+01,\n",
              "        3.000e+00, 0.000e+00, 0.000e+00, 1.000e+00]),\n",
              " array([4.9200000e+01, 5.7976730e+03, 1.1546146e+04, 1.7294619e+04,\n",
              "        2.3043092e+04, 2.8791565e+04, 3.4540038e+04, 4.0288511e+04,\n",
              "        4.6036984e+04, 5.1785457e+04, 5.7533930e+04]),\n",
              " <BarContainer object of 10 artists>)"
            ]
          },
          "metadata": {},
          "execution_count": 168
        },
        {
          "output_type": "display_data",
          "data": {
            "text/plain": [
              "<Figure size 640x480 with 1 Axes>"
            ],
            "image/png": "[encoded data removed]"
          },
          "metadata": {}
        }
      ]
    },
    {
      "cell_type": "code",
      "source": [
        "plt.hist(data['발전소용량(KW)'])"
      ],
      "metadata": {
        "colab": {
          "base_uri": "https://localhost:8080/",
          "height": 520
        },
        "id": "P2cOJQVTqCGX",
        "outputId": "2e6ee5b4-74b0-4990-e7bf-26d1ddb59beb"
      },
      "execution_count": 169,
      "outputs": [
        {
          "output_type": "execute_result",
          "data": {
            "text/plain": [
              "(array([3472., 4340.,  434.,  496.,  496., 1178.,    0.,    0.,    0.,\n",
              "          62.]),\n",
              " array([  98.825 ,  647.6985, 1196.572 , 1745.4455, 2294.319 , 2843.1925,\n",
              "        3392.066 , 3940.9395, 4489.813 , 5038.6865, 5587.56  ]),\n",
              " <BarContainer object of 10 artists>)"
            ]
          },
          "metadata": {},
          "execution_count": 169
        },
        {
          "output_type": "display_data",
          "data": {
            "text/plain": [
              "<Figure size 640x480 with 1 Axes>"
            ],
            "image/png": "[encoded data removed]"
          },
          "metadata": {}
        }
      ]
    },
    {
      "cell_type": "code",
      "source": [
        "sub_d = data\n",
        "sub_d['발전소코드'] = sub_d['발전소코드'].str[0]"
      ],
      "metadata": {
        "id": "Za_ISLrFqF-O"
      },
      "execution_count": 170,
      "outputs": []
    },
    {
      "cell_type": "code",
      "source": [
        "plt.hist(sub_d['발전소코드'])"
      ],
      "metadata": {
        "colab": {
          "base_uri": "https://localhost:8080/",
          "height": 502
        },
        "id": "KQMtD_aFqQOk",
        "outputId": "96afa1c9-185e-4cb2-d8f8-d4f299bf0e07"
      },
      "execution_count": 171,
      "outputs": [
        {
          "output_type": "execute_result",
          "data": {
            "text/plain": [
              "(array([2356.,    0., 3100.,    0., 2294.,    0.,  558.,    0.,  496.,\n",
              "        1674.]),\n",
              " array([0. , 0.5, 1. , 1.5, 2. , 2.5, 3. , 3.5, 4. , 4.5, 5. ]),\n",
              " <BarContainer object of 10 artists>)"
            ]
          },
          "metadata": {},
          "execution_count": 171
        },
        {
          "output_type": "display_data",
          "data": {
            "text/plain": [
              "<Figure size 640x480 with 1 Axes>"
            ],
            "image/png": "[encoded data removed]"
          },
          "metadata": {}
        }
      ]
    },
    {
      "cell_type": "code",
      "source": [
        "count_by_category = data.groupby('구분1')['발전소코드'].nunique()\n",
        "print(\"구분1별 발전소코드 개수:\\n\", count_by_category)"
      ],
      "metadata": {
        "colab": {
          "base_uri": "https://localhost:8080/"
        },
        "id": "X-AHnqXVHXcT",
        "outputId": "3ecdd0d9-0aae-4077-8791-202c6c27c726"
      },
      "execution_count": 172,
      "outputs": [
        {
          "output_type": "stream",
          "name": "stdout",
          "text": [
            "구분1별 발전소코드 개수:\n",
            " 구분1\n",
            "실측    6\n",
            "예측    6\n",
            "Name: 발전소코드, dtype: int64\n"
          ]
        }
      ]
    },
    {
      "cell_type": "code",
      "source": [
        "plt.hist(data['합계'])"
      ],
      "metadata": {
        "colab": {
          "base_uri": "https://localhost:8080/",
          "height": 539
        },
        "id": "p2pX7__SH5m5",
        "outputId": "132a6f3a-e885-405e-a3e5-2ba0a43c935b"
      },
      "execution_count": 173,
      "outputs": [
        {
          "output_type": "execute_result",
          "data": {
            "text/plain": [
              "(array([8.045e+03, 1.169e+03, 1.012e+03, 1.910e+02, 2.600e+01, 3.100e+01,\n",
              "        3.000e+00, 0.000e+00, 0.000e+00, 1.000e+00]),\n",
              " array([4.9200000e+01, 5.7976730e+03, 1.1546146e+04, 1.7294619e+04,\n",
              "        2.3043092e+04, 2.8791565e+04, 3.4540038e+04, 4.0288511e+04,\n",
              "        4.6036984e+04, 5.1785457e+04, 5.7533930e+04]),\n",
              " <BarContainer object of 10 artists>)"
            ]
          },
          "metadata": {},
          "execution_count": 173
        },
        {
          "output_type": "display_data",
          "data": {
            "text/plain": [
              "<Figure size 640x480 with 1 Axes>"
            ],
            "image/png": "[encoded data removed]"
          },
          "metadata": {}
        }
      ]
    },
    {
      "cell_type": "code",
      "source": [
        "plt.plot(sub_d['발전소코드'], sub_d['발전소용량(KW)'])\n",
        "plt.xlabel('code')\n",
        "plt.ylabel('KW')\n",
        "plt.xticks(rotation=45)\n",
        "plt.show()"
      ],
      "metadata": {
        "colab": {
          "base_uri": "https://localhost:8080/",
          "height": 454
        },
        "id": "mwaOQhpVHXvO",
        "outputId": "8ff610b6-f454-4a1a-e25f-596f901a9cf7"
      },
      "execution_count": 174,
      "outputs": [
        {
          "output_type": "display_data",
          "data": {
            "text/plain": [
              "<Figure size 640x480 with 1 Axes>"
            ],
            "image/png": "[encoded data removed]"
          },
          "metadata": {}
        }
      ]
    },
    {
      "cell_type": "markdown",
      "source": [
        "## 범주형 데이터 처리"
      ],
      "metadata": {
        "id": "KFlKhTcEJV3T"
      }
    },
    {
      "cell_type": "code",
      "source": [
        "data['구분1'] = data['구분1'].map({'실측': 0, '예측': 1})"
      ],
      "metadata": {
        "id": "c1U0bTrpJ0j1"
      },
      "execution_count": 175,
      "outputs": []
    },
    {
      "cell_type": "code",
      "source": [
        "data.head()"
      ],
      "metadata": {
        "colab": {
          "base_uri": "https://localhost:8080/",
          "height": 235
        },
        "id": "ZkWADpFEJXls",
        "outputId": "80e85dab-c47f-45a7-d97a-ed17095847ee"
      },
      "execution_count": 176,
      "outputs": [
        {
          "output_type": "execute_result",
          "data": {
            "text/plain": [
              "          일자  구분1 발전소코드  발전소용량(KW)   0:00  1:00  2:00  3:00  4:00  5:00  ...  \\\n",
              "0 2023-03-01    0     G     249.48   0.00  0.00  0.00  0.00  0.00  0.00  ...   \n",
              "1 2023-03-01    1     G     249.48   0.95  0.97  0.94  0.97  0.96  0.95  ...   \n",
              "2 2023-03-01    0     G     288.00   0.00  0.00  0.00  0.00  0.00  0.00  ...   \n",
              "3 2023-03-01    1     G     288.00   0.00  0.00  0.00  0.00  0.00  0.00  ...   \n",
              "4 2023-03-01    0     G     298.08  12.40  0.00  0.00  0.00  0.00  0.00  ...   \n",
              "\n",
              "    15:00  16:00  17:00   18:00  19:00  20:00   21:00  22:00  23:00      합계  \n",
              "0    0.10  65.80  33.60  133.70  161.1  150.5    0.00   0.00   0.00  640.90  \n",
              "1   20.08  93.61  35.62  161.20  161.2  161.2   46.95   0.89   0.98  739.26  \n",
              "2  101.26  53.50  29.09    2.21    0.0    0.0    0.00   0.00   0.00  787.25  \n",
              "3   93.33  30.84  27.05    1.43    0.0    0.0    0.00   0.00   0.00  618.75  \n",
              "4   18.60  63.80  28.80    0.60    0.0  164.2  135.60   0.00   0.00  552.40  \n",
              "\n",
              "[5 rows x 29 columns]"
            ],
            "text/html": [
              "\n",
              "  <div id=\"df-d270aea1-83d6-49c7-8388-ebf3bc118332\">\n",
              "    <div class=\"colab-df-container\">\n",
              "      <div>\n",
              "<style scoped>\n",
              "    .dataframe tbody tr th:only-of-type {\n",
              "        vertical-align: middle;\n",
              "    }\n",
              "\n",
              "    .dataframe tbody tr th {\n",
              "        vertical-align: top;\n",
              "    }\n",
              "\n",
              "    .dataframe thead th {\n",
              "        text-align: right;\n",
              "    }\n",
              "</style>\n",
              "<table border=\"1\" class=\"dataframe\">\n",
              "  <thead>\n",
              "    <tr style=\"text-align: right;\">\n",
              "      <th></th>\n",
              "      <th>일자</th>\n",
              "      <th>구분1</th>\n",
              "      <th>발전소코드</th>\n",
              "      <th>발전소용량(KW)</th>\n",
              "      <th>0:00</th>\n",
              "      <th>1:00</th>\n",
              "      <th>2:00</th>\n",
              "      <th>3:00</th>\n",
              "      <th>4:00</th>\n",
              "      <th>5:00</th>\n",
              "      <th>...</th>\n",
              "      <th>15:00</th>\n",
              "      <th>16:00</th>\n",
              "      <th>17:00</th>\n",
              "      <th>18:00</th>\n",
              "      <th>19:00</th>\n",
              "      <th>20:00</th>\n",
              "      <th>21:00</th>\n",
              "      <th>22:00</th>\n",
              "      <th>23:00</th>\n",
              "      <th>합계</th>\n",
              "    </tr>\n",
              "  </thead>\n",
              "  <tbody>\n",
              "    <tr>\n",
              "      <th>0</th>\n",
              "      <td>2023-03-01</td>\n",
              "      <td>0</td>\n",
              "      <td>G</td>\n",
              "      <td>249.48</td>\n",
              "      <td>0.00</td>\n",
              "      <td>0.00</td>\n",
              "      <td>0.00</td>\n",
              "      <td>0.00</td>\n",
              "      <td>0.00</td>\n",
              "      <td>0.00</td>\n",
              "      <td>...</td>\n",
              "      <td>0.10</td>\n",
              "      <td>65.80</td>\n",
              "      <td>33.60</td>\n",
              "      <td>133.70</td>\n",
              "      <td>161.1</td>\n",
              "      <td>150.5</td>\n",
              "      <td>0.00</td>\n",
              "      <td>0.00</td>\n",
              "      <td>0.00</td>\n",
              "      <td>640.90</td>\n",
              "    </tr>\n",
              "    <tr>\n",
              "      <th>1</th>\n",
              "      <td>2023-03-01</td>\n",
              "      <td>1</td>\n",
              "      <td>G</td>\n",
              "      <td>249.48</td>\n",
              "      <td>0.95</td>\n",
              "      <td>0.97</td>\n",
              "      <td>0.94</td>\n",
              "      <td>0.97</td>\n",
              "      <td>0.96</td>\n",
              "      <td>0.95</td>\n",
              "      <td>...</td>\n",
              "      <td>20.08</td>\n",
              "      <td>93.61</td>\n",
              "      <td>35.62</td>\n",
              "      <td>161.20</td>\n",
              "      <td>161.2</td>\n",
              "      <td>161.2</td>\n",
              "      <td>46.95</td>\n",
              "      <td>0.89</td>\n",
              "      <td>0.98</td>\n",
              "      <td>739.26</td>\n",
              "    </tr>\n",
              "    <tr>\n",
              "      <th>2</th>\n",
              "      <td>2023-03-01</td>\n",
              "      <td>0</td>\n",
              "      <td>G</td>\n",
              "      <td>288.00</td>\n",
              "      <td>0.00</td>\n",
              "      <td>0.00</td>\n",
              "      <td>0.00</td>\n",
              "      <td>0.00</td>\n",
              "      <td>0.00</td>\n",
              "      <td>0.00</td>\n",
              "      <td>...</td>\n",
              "      <td>101.26</td>\n",
              "      <td>53.50</td>\n",
              "      <td>29.09</td>\n",
              "      <td>2.21</td>\n",
              "      <td>0.0</td>\n",
              "      <td>0.0</td>\n",
              "      <td>0.00</td>\n",
              "      <td>0.00</td>\n",
              "      <td>0.00</td>\n",
              "      <td>787.25</td>\n",
              "    </tr>\n",
              "    <tr>\n",
              "      <th>3</th>\n",
              "      <td>2023-03-01</td>\n",
              "      <td>1</td>\n",
              "      <td>G</td>\n",
              "      <td>288.00</td>\n",
              "      <td>0.00</td>\n",
              "      <td>0.00</td>\n",
              "      <td>0.00</td>\n",
              "      <td>0.00</td>\n",
              "      <td>0.00</td>\n",
              "      <td>0.00</td>\n",
              "      <td>...</td>\n",
              "      <td>93.33</td>\n",
              "      <td>30.84</td>\n",
              "      <td>27.05</td>\n",
              "      <td>1.43</td>\n",
              "      <td>0.0</td>\n",
              "      <td>0.0</td>\n",
              "      <td>0.00</td>\n",
              "      <td>0.00</td>\n",
              "      <td>0.00</td>\n",
              "      <td>618.75</td>\n",
              "    </tr>\n",
              "    <tr>\n",
              "      <th>4</th>\n",
              "      <td>2023-03-01</td>\n",
              "      <td>0</td>\n",
              "      <td>G</td>\n",
              "      <td>298.08</td>\n",
              "      <td>12.40</td>\n",
              "      <td>0.00</td>\n",
              "      <td>0.00</td>\n",
              "      <td>0.00</td>\n",
              "      <td>0.00</td>\n",
              "      <td>0.00</td>\n",
              "      <td>...</td>\n",
              "      <td>18.60</td>\n",
              "      <td>63.80</td>\n",
              "      <td>28.80</td>\n",
              "      <td>0.60</td>\n",
              "      <td>0.0</td>\n",
              "      <td>164.2</td>\n",
              "      <td>135.60</td>\n",
              "      <td>0.00</td>\n",
              "      <td>0.00</td>\n",
              "      <td>552.40</td>\n",
              "    </tr>\n",
              "  </tbody>\n",
              "</table>\n",
              "<p>5 rows × 29 columns</p>\n",
              "</div>\n",
              "      <button class=\"colab-df-convert\" onclick=\"convertToInteractive('df-d270aea1-83d6-49c7-8388-ebf3bc118332')\"\n",
              "              title=\"Convert this dataframe to an interactive table.\"\n",
              "              style=\"display:none;\">\n",
              "        \n",
              "  <svg xmlns=\"http://www.w3.org/2000/svg\" height=\"24px\"viewBox=\"0 0 24 24\"\n",
              "       width=\"24px\">\n",
              "    <path d=\"M0 0h24v24H0V0z\" fill=\"none\"/>\n",
              "    <path d=\"M18.56 5.44l.94 2.06.94-2.06 2.06-.94-2.06-.94-.94-2.06-.94 2.06-2.06.94zm-11 1L8.5 8.5l.94-2.06 2.06-.94-2.06-.94L8.5 2.5l-.94 2.06-2.06.94zm10 10l.94 2.06.94-2.06 2.06-.94-2.06-.94-.94-2.06-.94 2.06-2.06.94z\"/><path d=\"M17.41 7.96l-1.37-1.37c-.4-.4-.92-.59-1.43-.59-.52 0-1.04.2-1.43.59L10.3 9.45l-7.72 7.72c-.78.78-.78 2.05 0 2.83L4 21.41c.39.39.9.59 1.41.59.51 0 1.02-.2 1.41-.59l7.78-7.78 2.81-2.81c.8-.78.8-2.07 0-2.86zM5.41 20L4 18.59l7.72-7.72 1.47 1.35L5.41 20z\"/>\n",
              "  </svg>\n",
              "      </button>\n",
              "      \n",
              "  <style>\n",
              "    .colab-df-container {\n",
              "      display:flex;\n",
              "      flex-wrap:wrap;\n",
              "      gap: 12px;\n",
              "    }\n",
              "\n",
              "    .colab-df-convert {\n",
              "      background-color: #E8F0FE;\n",
              "      border: none;\n",
              "      border-radius: 50%;\n",
              "      cursor: pointer;\n",
              "      display: none;\n",
              "      fill: #1967D2;\n",
              "      height: 32px;\n",
              "      padding: 0 0 0 0;\n",
              "      width: 32px;\n",
              "    }\n",
              "\n",
              "    .colab-df-convert:hover {\n",
              "      background-color: #E2EBFA;\n",
              "      box-shadow: 0px 1px 2px rgba(60, 64, 67, 0.3), 0px 1px 3px 1px rgba(60, 64, 67, 0.15);\n",
              "      fill: #174EA6;\n",
              "    }\n",
              "\n",
              "    [theme=dark] .colab-df-convert {\n",
              "      background-color: #3B4455;\n",
              "      fill: #D2E3FC;\n",
              "    }\n",
              "\n",
              "    [theme=dark] .colab-df-convert:hover {\n",
              "      background-color: #434B5C;\n",
              "      box-shadow: 0px 1px 3px 1px rgba(0, 0, 0, 0.15);\n",
              "      filter: drop-shadow(0px 1px 2px rgba(0, 0, 0, 0.3));\n",
              "      fill: #FFFFFF;\n",
              "    }\n",
              "  </style>\n",
              "\n",
              "      <script>\n",
              "        const buttonEl =\n",
              "          document.querySelector('#df-d270aea1-83d6-49c7-8388-ebf3bc118332 button.colab-df-convert');\n",
              "        buttonEl.style.display =\n",
              "          google.colab.kernel.accessAllowed ? 'block' : 'none';\n",
              "\n",
              "        async function convertToInteractive(key) {\n",
              "          const element = document.querySelector('#df-d270aea1-83d6-49c7-8388-ebf3bc118332');\n",
              "          const dataTable =\n",
              "            await google.colab.kernel.invokeFunction('convertToInteractive',\n",
              "                                                     [key], {});\n",
              "          if (!dataTable) return;\n",
              "\n",
              "          const docLinkHtml = 'Like what you see? Visit the ' +\n",
              "            '<a target=\"_blank\" href=https://colab.research.google.com/notebooks/data_table.ipynb>data table notebook</a>'\n",
              "            + ' to learn more about interactive tables.';\n",
              "          element.innerHTML = '';\n",
              "          dataTable['output_type'] = 'display_data';\n",
              "          await google.colab.output.renderOutput(dataTable, element);\n",
              "          const docLink = document.createElement('div');\n",
              "          docLink.innerHTML = docLinkHtml;\n",
              "          element.appendChild(docLink);\n",
              "        }\n",
              "      </script>\n",
              "    </div>\n",
              "  </div>\n",
              "  "
            ]
          },
          "metadata": {},
          "execution_count": 176
        }
      ]
    },
    {
      "cell_type": "code",
      "source": [
        "data.info()"
      ],
      "metadata": {
        "colab": {
          "base_uri": "https://localhost:8080/"
        },
        "id": "q5xgSfyAJcXG",
        "outputId": "5a6a99da-af0c-4365-c42d-0489f92d235f"
      },
      "execution_count": 177,
      "outputs": [
        {
          "output_type": "stream",
          "name": "stdout",
          "text": [
            "<class 'pandas.core.frame.DataFrame'>\n",
            "RangeIndex: 10478 entries, 0 to 10477\n",
            "Data columns (total 29 columns):\n",
            " #   Column     Non-Null Count  Dtype         \n",
            "---  ------     --------------  -----         \n",
            " 0   일자         10478 non-null  datetime64[ns]\n",
            " 1   구분1        10478 non-null  int64         \n",
            " 2   발전소코드      10478 non-null  object        \n",
            " 3   발전소용량(KW)  10478 non-null  float64       \n",
            " 4   0:00       10478 non-null  float64       \n",
            " 5   1:00       10478 non-null  float64       \n",
            " 6   2:00       10477 non-null  float64       \n",
            " 7   3:00       10476 non-null  float64       \n",
            " 8   4:00       10477 non-null  float64       \n",
            " 9   5:00       10478 non-null  float64       \n",
            " 10  6:00       10478 non-null  float64       \n",
            " 11  7:00       10478 non-null  float64       \n",
            " 12  8:00       10478 non-null  float64       \n",
            " 13  9:00       10478 non-null  float64       \n",
            " 14  10:00      10478 non-null  float64       \n",
            " 15  11:00      10478 non-null  float64       \n",
            " 16  12:00      10478 non-null  float64       \n",
            " 17  13:00      10478 non-null  float64       \n",
            " 18  14:00      10478 non-null  float64       \n",
            " 19  15:00      10478 non-null  float64       \n",
            " 20  16:00      10478 non-null  float64       \n",
            " 21  17:00      10478 non-null  float64       \n",
            " 22  18:00      10478 non-null  float64       \n",
            " 23  19:00      10478 non-null  float64       \n",
            " 24  20:00      10477 non-null  float64       \n",
            " 25  21:00      10476 non-null  float64       \n",
            " 26  22:00      10477 non-null  float64       \n",
            " 27  23:00      10477 non-null  float64       \n",
            " 28  합계         10478 non-null  float64       \n",
            "dtypes: datetime64[ns](1), float64(26), int64(1), object(1)\n",
            "memory usage: 2.3+ MB\n"
          ]
        }
      ]
    },
    {
      "cell_type": "code",
      "source": [],
      "metadata": {
        "id": "lr28b-2zJ9P6"
      },
      "execution_count": 177,
      "outputs": []
    }
  ]
}